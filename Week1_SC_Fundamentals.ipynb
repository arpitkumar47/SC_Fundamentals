{
 "cells": [
  {
   "cell_type": "code",
   "execution_count": 2,
   "metadata": {},
   "outputs": [],
   "source": [
    "# a) Create a list called 'products' with the following items: \n",
    "# 'SHORT HALTER', 'LACE INSET MACI', 'MAXI OMBRE', 'MAXI EMB DRESS', 'SLEEEVELESS DRESS', 'TIE DYE ROMPER', 'ROMPER', 'OMBRE MAXI W/LATICE WORK', 'TIE DYE WIDE LEG PANT'\n",
    "\n",
    "# # your code here\n",
    "products = ['SHORT HALTER', 'LACE INSET MACI', 'MAXI OMBRE', 'MAXI EMB DRESS', 'SLEEEVELESS DRESS',\n",
    "            'TIE DYE ROMPER', 'ROMPER', 'OMBRE MAXI W/LATICE WORK', 'TIE DYE WIDE LEG PANT']"
   ]
  },
  {
   "cell_type": "code",
   "execution_count": 3,
   "metadata": {},
   "outputs": [
    {
     "data": {
      "text/plain": [
       "['SHORT HALTER',\n",
       " 'LACE INSET MACI',\n",
       " 'MAXI OMBRE',\n",
       " 'MAXI EMB DRESS',\n",
       " 'SLEEEVELESS DRESS',\n",
       " 'TIE DYE ROMPER',\n",
       " 'ROMPER',\n",
       " 'OMBRE MAXI W/LATICE WORK',\n",
       " 'TIE DYE WIDE LEG PANT']"
      ]
     },
     "execution_count": 3,
     "metadata": {},
     "output_type": "execute_result"
    }
   ],
   "source": [
    "products"
   ]
  },
  {
   "cell_type": "code",
   "execution_count": 4,
   "metadata": {},
   "outputs": [],
   "source": [
    "# Then, store the 3rd-5th items in another list called 'product_subset'. \n",
    "product_subset = products[2:5]"
   ]
  },
  {
   "cell_type": "code",
   "execution_count": 5,
   "metadata": {},
   "outputs": [
    {
     "data": {
      "text/plain": [
       "['MAXI OMBRE', 'MAXI EMB DRESS', 'SLEEEVELESS DRESS']"
      ]
     },
     "execution_count": 5,
     "metadata": {},
     "output_type": "execute_result"
    }
   ],
   "source": [
    "product_subset"
   ]
  },
  {
   "cell_type": "code",
   "execution_count": 6,
   "metadata": {},
   "outputs": [
    {
     "data": {
      "text/plain": [
       "['MAXI OMBRE', 'MAXI EMB DRESS', 'SLEEEVELESS DRESS', 'TIE DYE WIDE LEG PANT']"
      ]
     },
     "execution_count": 6,
     "metadata": {},
     "output_type": "execute_result"
    }
   ],
   "source": [
    "# Append the last element of \"products\" to \"product_subset\n",
    "\n",
    "product_subset.append(products[-1])\n",
    "product_subset"
   ]
  },
  {
   "cell_type": "code",
   "execution_count": 7,
   "metadata": {},
   "outputs": [],
   "source": [
    "grade_dist = {\"A\":4, \"B\":3, \"C\":1}"
   ]
  },
  {
   "cell_type": "code",
   "execution_count": 8,
   "metadata": {},
   "outputs": [
    {
     "data": {
      "text/plain": [
       "{'A': 4, 'B': 3, 'C': 1}"
      ]
     },
     "execution_count": 8,
     "metadata": {},
     "output_type": "execute_result"
    }
   ],
   "source": [
    "grade_dist"
   ]
  },
  {
   "cell_type": "code",
   "execution_count": 9,
   "metadata": {},
   "outputs": [
    {
     "data": {
      "text/plain": [
       "dict_keys(['A', 'B', 'C'])"
      ]
     },
     "execution_count": 9,
     "metadata": {},
     "output_type": "execute_result"
    }
   ],
   "source": [
    "grade_dist.keys()"
   ]
  },
  {
   "cell_type": "code",
   "execution_count": 10,
   "metadata": {},
   "outputs": [
    {
     "data": {
      "text/plain": [
       "dict_values([4, 3, 1])"
      ]
     },
     "execution_count": 10,
     "metadata": {},
     "output_type": "execute_result"
    }
   ],
   "source": [
    "grade_dist.values()"
   ]
  },
  {
   "cell_type": "code",
   "execution_count": 11,
   "metadata": {},
   "outputs": [
    {
     "data": {
      "text/plain": [
       "4"
      ]
     },
     "execution_count": 11,
     "metadata": {},
     "output_type": "execute_result"
    }
   ],
   "source": [
    "grade_dist[\"A\"] #index"
   ]
  },
  {
   "cell_type": "code",
   "execution_count": 12,
   "metadata": {},
   "outputs": [],
   "source": [
    "grade_dist[\"D\"] = 1 # adding a new key"
   ]
  },
  {
   "cell_type": "code",
   "execution_count": 13,
   "metadata": {},
   "outputs": [
    {
     "data": {
      "text/plain": [
       "{'A': 4, 'B': 3, 'C': 1, 'D': 1}"
      ]
     },
     "execution_count": 13,
     "metadata": {},
     "output_type": "execute_result"
    }
   ],
   "source": [
    "grade_dist"
   ]
  },
  {
   "cell_type": "code",
   "execution_count": 14,
   "metadata": {},
   "outputs": [],
   "source": [
    "import random"
   ]
  },
  {
   "cell_type": "code",
   "execution_count": 15,
   "metadata": {},
   "outputs": [],
   "source": [
    "oft = {}"
   ]
  },
  {
   "cell_type": "code",
   "execution_count": 16,
   "metadata": {},
   "outputs": [
    {
     "data": {
      "text/plain": [
       "['raindrop', 'roses', 'whiskers', 'kittens']"
      ]
     },
     "execution_count": 16,
     "metadata": {},
     "output_type": "execute_result"
    }
   ],
   "source": [
    "favorites = [\"raindrop\", \"roses\", \"whiskers\", \"kittens\"]\n",
    "favorites"
   ]
  },
  {
   "cell_type": "code",
   "execution_count": 17,
   "metadata": {},
   "outputs": [],
   "source": [
    "for i in favorites:\n",
    "    oft[i] = random.randint(0,1)"
   ]
  },
  {
   "cell_type": "code",
   "execution_count": 18,
   "metadata": {},
   "outputs": [
    {
     "data": {
      "text/plain": [
       "{'raindrop': 0, 'roses': 0, 'whiskers': 0, 'kittens': 0}"
      ]
     },
     "execution_count": 18,
     "metadata": {},
     "output_type": "execute_result"
    }
   ],
   "source": [
    "oft"
   ]
  },
  {
   "cell_type": "code",
   "execution_count": 19,
   "metadata": {},
   "outputs": [
    {
     "data": {
      "text/plain": [
       "{'Dallas': 900,\n",
       " 'Las Vegas': 500,\n",
       " \"Detroit'\": 832,\n",
       " 'Nashville': 600,\n",
       " 'Los Angeles': 2400,\n",
       " 'Seattle': 1300,\n",
       " 'Denver': 1800}"
      ]
     },
     "execution_count": 19,
     "metadata": {},
     "output_type": "execute_result"
    }
   ],
   "source": [
    "# a) Create a dictionary called \"plants\" with information on the following warehouse plants:\n",
    "# Locations        Supply\n",
    "# Dallas:          900\n",
    "# Las Vegas:       500\n",
    "# Detroit':        832\n",
    "# Nashville:       600\n",
    "# Los Angeles:    2400\n",
    "# Seattle:        1300\n",
    "# Denver:         1800\n",
    "\n",
    "plants = {\"Dallas\":900, \"Las Vegas\":500,\n",
    "          \"Detroit'\":832, \"Nashville\":600,\n",
    "          \"Los Angeles\":2400, \"Seattle\":1300,\n",
    "          \"Denver\":1800}\n",
    "plants"
   ]
  },
  {
   "cell_type": "code",
   "execution_count": 20,
   "metadata": {},
   "outputs": [
    {
     "data": {
      "text/plain": [
       "['Dallas',\n",
       " 'Las Vegas',\n",
       " \"Detroit'\",\n",
       " 'Nashville',\n",
       " 'Los Angeles',\n",
       " 'Seattle',\n",
       " 'Denver']"
      ]
     },
     "execution_count": 20,
     "metadata": {},
     "output_type": "execute_result"
    }
   ],
   "source": [
    "locations = list(plants.keys())\n",
    "locations"
   ]
  },
  {
   "cell_type": "code",
   "execution_count": 21,
   "metadata": {},
   "outputs": [
    {
     "data": {
      "text/plain": [
       "[900, 500, 832, 600, 2400, 1300, 1800]"
      ]
     },
     "execution_count": 21,
     "metadata": {},
     "output_type": "execute_result"
    }
   ],
   "source": [
    "supply = list(plants.values())\n",
    "supply"
   ]
  },
  {
   "cell_type": "code",
   "execution_count": 22,
   "metadata": {},
   "outputs": [
    {
     "data": {
      "text/plain": [
       "2400"
      ]
     },
     "execution_count": 22,
     "metadata": {},
     "output_type": "execute_result"
    }
   ],
   "source": [
    "la_supply = plants[\"Los Angeles\"]\n",
    "la_supply"
   ]
  },
  {
   "cell_type": "code",
   "execution_count": 25,
   "metadata": {},
   "outputs": [
    {
     "ename": "NameError",
     "evalue": "name 'x' is not defined",
     "output_type": "error",
     "traceback": [
      "\u001b[0;31m---------------------------------------------------------------------------\u001b[0m",
      "\u001b[0;31mNameError\u001b[0m                                 Traceback (most recent call last)",
      "\u001b[0;32m<ipython-input-25-d755b85d94fd>\u001b[0m in \u001b[0;36m<module>\u001b[0;34m\u001b[0m\n\u001b[0;32m----> 1\u001b[0;31m \u001b[0mlist\u001b[0m\u001b[0;34m.\u001b[0m\u001b[0mappend\u001b[0m\u001b[0;34m(\u001b[0m\u001b[0mx\u001b[0m\u001b[0;34m)\u001b[0m\u001b[0;34m\u001b[0m\u001b[0;34m\u001b[0m\u001b[0m\n\u001b[0m\u001b[1;32m      2\u001b[0m \u001b[0;34m\u001b[0m\u001b[0m\n\u001b[1;32m      3\u001b[0m \u001b[0mlist\u001b[0m\u001b[0;34m.\u001b[0m\u001b[0minsert\u001b[0m\u001b[0;34m(\u001b[0m\u001b[0mi\u001b[0m\u001b[0;34m,\u001b[0m \u001b[0mx\u001b[0m\u001b[0;34m)\u001b[0m \u001b[0;31m# he first argument is the index of the element before which to insert,\u001b[0m\u001b[0;34m\u001b[0m\u001b[0;34m\u001b[0m\u001b[0m\n\u001b[1;32m      4\u001b[0m \u001b[0;31m# a.insert(len(a), x) = a.append(x)\u001b[0m\u001b[0;34m\u001b[0m\u001b[0;34m\u001b[0m\u001b[0;34m\u001b[0m\u001b[0m\n\u001b[1;32m      5\u001b[0m \u001b[0;34m\u001b[0m\u001b[0m\n",
      "\u001b[0;31mNameError\u001b[0m: name 'x' is not defined"
     ]
    }
   ],
   "source": [
    "list.append(x)\n",
    "\n",
    "list.insert(i, x) # he first argument is the index of the element before which to insert,\n",
    "# a.insert(len(a), x) = a.append(x)\n",
    "\n",
    "list.remove(x) #Remove the first item from the list whose value is equal to x\n",
    "\n",
    "list.pop([i]) #Remove the item at the given position in the list\n",
    "list.pop() #removes and returns the last item in the list\n",
    "\n",
    "list.clear() #Remove all items from the list\n",
    "# a.clear() = del a[:]\n",
    "\n",
    "list.count(x) #Return the number of times x appears in the list.\n",
    "\n",
    "list.sort(x, key=None, reverse=False)\n",
    "\n",
    "list.reverse()\n",
    "\n",
    "list.copy()"
   ]
  },
  {
   "cell_type": "code",
   "execution_count": 26,
   "metadata": {},
   "outputs": [],
   "source": [
    "fruits = ['orange', 'apple', \n",
    "          'pear', 'banana', 'kiwi', 'apple', 'banana']"
   ]
  },
  {
   "cell_type": "code",
   "execution_count": 27,
   "metadata": {},
   "outputs": [
    {
     "data": {
      "text/plain": [
       "2"
      ]
     },
     "execution_count": 27,
     "metadata": {},
     "output_type": "execute_result"
    }
   ],
   "source": [
    "fruits.count(\"apple\")"
   ]
  },
  {
   "cell_type": "code",
   "execution_count": 28,
   "metadata": {},
   "outputs": [
    {
     "data": {
      "text/plain": [
       "3"
      ]
     },
     "execution_count": 28,
     "metadata": {},
     "output_type": "execute_result"
    }
   ],
   "source": [
    "fruits.index(\"banana\")"
   ]
  },
  {
   "cell_type": "code",
   "execution_count": 29,
   "metadata": {},
   "outputs": [
    {
     "data": {
      "text/plain": [
       "6"
      ]
     },
     "execution_count": 29,
     "metadata": {},
     "output_type": "execute_result"
    }
   ],
   "source": [
    "fruits.index(\"banana\", 4)  # Find next banana starting a position 4"
   ]
  },
  {
   "cell_type": "code",
   "execution_count": 30,
   "metadata": {},
   "outputs": [
    {
     "data": {
      "text/plain": [
       "['banana', 'apple', 'kiwi', 'banana', 'pear', 'apple', 'orange']"
      ]
     },
     "execution_count": 30,
     "metadata": {},
     "output_type": "execute_result"
    }
   ],
   "source": [
    "fruits.reverse()\n",
    "fruits"
   ]
  },
  {
   "cell_type": "code",
   "execution_count": 31,
   "metadata": {},
   "outputs": [
    {
     "data": {
      "text/plain": [
       "['banana', 'apple', 'kiwi', 'banana', 'pear', 'apple', 'orange', 'grape']"
      ]
     },
     "execution_count": 31,
     "metadata": {},
     "output_type": "execute_result"
    }
   ],
   "source": [
    "fruits.append(\"grape\")\n",
    "fruits"
   ]
  },
  {
   "cell_type": "code",
   "execution_count": 32,
   "metadata": {},
   "outputs": [],
   "source": [
    "fruits.sort()"
   ]
  },
  {
   "cell_type": "code",
   "execution_count": 33,
   "metadata": {},
   "outputs": [
    {
     "data": {
      "text/plain": [
       "['apple', 'apple', 'banana', 'banana', 'grape', 'kiwi', 'orange', 'pear']"
      ]
     },
     "execution_count": 33,
     "metadata": {},
     "output_type": "execute_result"
    }
   ],
   "source": [
    "fruits"
   ]
  },
  {
   "cell_type": "code",
   "execution_count": 34,
   "metadata": {},
   "outputs": [
    {
     "data": {
      "text/plain": [
       "'pear'"
      ]
     },
     "execution_count": 34,
     "metadata": {},
     "output_type": "execute_result"
    }
   ],
   "source": [
    "fruits.pop()"
   ]
  },
  {
   "cell_type": "code",
   "execution_count": 35,
   "metadata": {},
   "outputs": [],
   "source": [
    "#stacking # Last In First OUT\n",
    "stack = [3, 4, 5]"
   ]
  },
  {
   "cell_type": "code",
   "execution_count": 36,
   "metadata": {},
   "outputs": [],
   "source": [
    "stack.append(6)"
   ]
  },
  {
   "cell_type": "code",
   "execution_count": 37,
   "metadata": {},
   "outputs": [],
   "source": [
    "stack.append(7)"
   ]
  },
  {
   "cell_type": "code",
   "execution_count": 38,
   "metadata": {},
   "outputs": [
    {
     "data": {
      "text/plain": [
       "[3, 4, 5, 6, 7]"
      ]
     },
     "execution_count": 38,
     "metadata": {},
     "output_type": "execute_result"
    }
   ],
   "source": [
    "stack "
   ]
  },
  {
   "cell_type": "code",
   "execution_count": 39,
   "metadata": {},
   "outputs": [
    {
     "data": {
      "text/plain": [
       "7"
      ]
     },
     "execution_count": 39,
     "metadata": {},
     "output_type": "execute_result"
    }
   ],
   "source": [
    "stack.pop()"
   ]
  },
  {
   "cell_type": "code",
   "execution_count": 40,
   "metadata": {},
   "outputs": [
    {
     "data": {
      "text/plain": [
       "6"
      ]
     },
     "execution_count": 40,
     "metadata": {},
     "output_type": "execute_result"
    }
   ],
   "source": [
    "stack.pop()"
   ]
  },
  {
   "cell_type": "code",
   "execution_count": 41,
   "metadata": {},
   "outputs": [
    {
     "data": {
      "text/plain": [
       "[3, 4, 5]"
      ]
     },
     "execution_count": 41,
     "metadata": {},
     "output_type": "execute_result"
    }
   ],
   "source": [
    "stack"
   ]
  },
  {
   "cell_type": "code",
   "execution_count": 42,
   "metadata": {},
   "outputs": [],
   "source": [
    "# queuing # First In First Out\n",
    "from collections import deque"
   ]
  },
  {
   "cell_type": "code",
   "execution_count": 43,
   "metadata": {},
   "outputs": [],
   "source": [
    "queue = deque([\"Eric\", \"John\", \"Michael\"])"
   ]
  },
  {
   "cell_type": "code",
   "execution_count": 44,
   "metadata": {},
   "outputs": [
    {
     "data": {
      "text/plain": [
       "deque(['Eric', 'John', 'Michael'])"
      ]
     },
     "execution_count": 44,
     "metadata": {},
     "output_type": "execute_result"
    }
   ],
   "source": [
    "queue"
   ]
  },
  {
   "cell_type": "code",
   "execution_count": 45,
   "metadata": {},
   "outputs": [],
   "source": [
    "queue.append(\"Terry\")"
   ]
  },
  {
   "cell_type": "code",
   "execution_count": 46,
   "metadata": {},
   "outputs": [],
   "source": [
    "queue.append(\"Graham\")"
   ]
  },
  {
   "cell_type": "code",
   "execution_count": 47,
   "metadata": {},
   "outputs": [
    {
     "data": {
      "text/plain": [
       "deque(['Eric', 'John', 'Michael', 'Terry', 'Graham'])"
      ]
     },
     "execution_count": 47,
     "metadata": {},
     "output_type": "execute_result"
    }
   ],
   "source": [
    "queue"
   ]
  },
  {
   "cell_type": "code",
   "execution_count": 48,
   "metadata": {},
   "outputs": [
    {
     "data": {
      "text/plain": [
       "'Eric'"
      ]
     },
     "execution_count": 48,
     "metadata": {},
     "output_type": "execute_result"
    }
   ],
   "source": [
    "queue.popleft()"
   ]
  },
  {
   "cell_type": "code",
   "execution_count": 49,
   "metadata": {},
   "outputs": [
    {
     "data": {
      "text/plain": [
       "'John'"
      ]
     },
     "execution_count": 49,
     "metadata": {},
     "output_type": "execute_result"
    }
   ],
   "source": [
    "queue.popleft()"
   ]
  },
  {
   "cell_type": "code",
   "execution_count": 50,
   "metadata": {},
   "outputs": [
    {
     "data": {
      "text/plain": [
       "deque(['Michael', 'Terry', 'Graham'])"
      ]
     },
     "execution_count": 50,
     "metadata": {},
     "output_type": "execute_result"
    }
   ],
   "source": [
    "queue"
   ]
  },
  {
   "cell_type": "code",
   "execution_count": 51,
   "metadata": {},
   "outputs": [
    {
     "data": {
      "text/plain": [
       "[0, 1, 4, 9, 16, 25, 36, 49, 64, 81]"
      ]
     },
     "execution_count": 51,
     "metadata": {},
     "output_type": "execute_result"
    }
   ],
   "source": [
    "squares = []\n",
    "for x in range(10):\n",
    "    squares.append(x**2)\n",
    "    \n",
    "squares"
   ]
  },
  {
   "cell_type": "code",
   "execution_count": 52,
   "metadata": {},
   "outputs": [],
   "source": [
    "squares = list(map(lambda x: x**2, range(10)))"
   ]
  },
  {
   "cell_type": "code",
   "execution_count": 53,
   "metadata": {},
   "outputs": [
    {
     "data": {
      "text/plain": [
       "[0, 1, 4, 9, 16, 25, 36, 49, 64, 81]"
      ]
     },
     "execution_count": 53,
     "metadata": {},
     "output_type": "execute_result"
    }
   ],
   "source": [
    "squares"
   ]
  },
  {
   "cell_type": "code",
   "execution_count": 54,
   "metadata": {},
   "outputs": [
    {
     "data": {
      "text/plain": [
       "[(1, 3), (1, 4), (2, 3), (2, 1), (2, 4), (3, 1), (3, 4)]"
      ]
     },
     "execution_count": 54,
     "metadata": {},
     "output_type": "execute_result"
    }
   ],
   "source": [
    "combs=[]\n",
    "for x in [1,2,3]:\n",
    "    for y in [3,1,4]:\n",
    "        if x!=y:\n",
    "            combs.append((x,y))\n",
    "combs            "
   ]
  },
  {
   "cell_type": "code",
   "execution_count": 55,
   "metadata": {},
   "outputs": [],
   "source": [
    "vec = [-4, -2, 0, 2, 4]"
   ]
  },
  {
   "cell_type": "code",
   "execution_count": 56,
   "metadata": {},
   "outputs": [
    {
     "data": {
      "text/plain": [
       "[16, 4, 0, 4, 16]"
      ]
     },
     "execution_count": 56,
     "metadata": {},
     "output_type": "execute_result"
    }
   ],
   "source": [
    "[x**2 for x in vec]"
   ]
  },
  {
   "cell_type": "code",
   "execution_count": 57,
   "metadata": {},
   "outputs": [
    {
     "data": {
      "text/plain": [
       "[0, 4, 16]"
      ]
     },
     "execution_count": 57,
     "metadata": {},
     "output_type": "execute_result"
    }
   ],
   "source": [
    "[x**2 for x in vec if x>=0]"
   ]
  },
  {
   "cell_type": "code",
   "execution_count": 58,
   "metadata": {},
   "outputs": [
    {
     "data": {
      "text/plain": [
       "[4, 2, 0, 2, 4]"
      ]
     },
     "execution_count": 58,
     "metadata": {},
     "output_type": "execute_result"
    }
   ],
   "source": [
    "[abs(x) for x in vec]"
   ]
  },
  {
   "cell_type": "code",
   "execution_count": 59,
   "metadata": {},
   "outputs": [],
   "source": [
    "freshfruit = ['  banana', '  loganberry ', 'passion fruit  ']"
   ]
  },
  {
   "cell_type": "code",
   "execution_count": 60,
   "metadata": {},
   "outputs": [
    {
     "data": {
      "text/plain": [
       "['banana', 'loganberry', 'passion fruit']"
      ]
     },
     "execution_count": 60,
     "metadata": {},
     "output_type": "execute_result"
    }
   ],
   "source": [
    "[weapons.strip() for weapons in freshfruit]"
   ]
  },
  {
   "cell_type": "code",
   "execution_count": 61,
   "metadata": {},
   "outputs": [
    {
     "data": {
      "text/plain": [
       "[(-4, 16), (-2, 4), (0, 0), (2, 4), (4, 16)]"
      ]
     },
     "execution_count": 61,
     "metadata": {},
     "output_type": "execute_result"
    }
   ],
   "source": [
    "[(x,x**2) for x in vec] #tuple"
   ]
  },
  {
   "cell_type": "code",
   "execution_count": 62,
   "metadata": {},
   "outputs": [
    {
     "data": {
      "text/plain": [
       "[1, 2, 3, 4, 5, 6, 7, 8, 9]"
      ]
     },
     "execution_count": 62,
     "metadata": {},
     "output_type": "execute_result"
    }
   ],
   "source": [
    "#flatten a list\n",
    "\n",
    "vec = [[1,2,3], [4,5,6], [7,8,9]]\n",
    "flat = []\n",
    "for x in vec:\n",
    "    for y in x:\n",
    "        flat.append(y)\n",
    "flat"
   ]
  },
  {
   "cell_type": "code",
   "execution_count": 63,
   "metadata": {},
   "outputs": [
    {
     "data": {
      "text/plain": [
       "[1, 2, 3, 4, 5, 6, 7, 8, 9]"
      ]
     },
     "execution_count": 63,
     "metadata": {},
     "output_type": "execute_result"
    }
   ],
   "source": [
    "[y for x in vec for y in x]"
   ]
  },
  {
   "cell_type": "code",
   "execution_count": 64,
   "metadata": {},
   "outputs": [],
   "source": [
    "from math import pi"
   ]
  },
  {
   "cell_type": "code",
   "execution_count": 65,
   "metadata": {},
   "outputs": [
    {
     "data": {
      "text/plain": [
       "['3.1', '3.14', '3.142', '3.1416', '3.14159']"
      ]
     },
     "execution_count": 65,
     "metadata": {},
     "output_type": "execute_result"
    }
   ],
   "source": [
    "[str(round(pi,i)) for i in range(1,6)]"
   ]
  },
  {
   "cell_type": "code",
   "execution_count": 66,
   "metadata": {},
   "outputs": [],
   "source": [
    "matrix = [\n",
    "    [1, 2, 3, 4],\n",
    "    [5, 6, 7, 8],\n",
    "    [9, 10, 11, 12],\n",
    "]"
   ]
  },
  {
   "cell_type": "code",
   "execution_count": 67,
   "metadata": {},
   "outputs": [
    {
     "data": {
      "text/plain": [
       "[1, 2, 3, 4, 5, 6, 7, 8, 9, 10, 11, 12]"
      ]
     },
     "execution_count": 67,
     "metadata": {},
     "output_type": "execute_result"
    }
   ],
   "source": [
    "l = []\n",
    "for row in matrix:\n",
    "    for column in row:\n",
    "        l.append(column)\n",
    "l"
   ]
  },
  {
   "cell_type": "code",
   "execution_count": 68,
   "metadata": {},
   "outputs": [
    {
     "data": {
      "text/plain": [
       "[[1, 5, 9], [2, 6, 10], [3, 7, 11], [4, 8, 12]]"
      ]
     },
     "execution_count": 68,
     "metadata": {},
     "output_type": "execute_result"
    }
   ],
   "source": [
    "[[row[i] for row in matrix] for i in range(4)]"
   ]
  },
  {
   "cell_type": "code",
   "execution_count": 69,
   "metadata": {},
   "outputs": [],
   "source": [
    "a = [-1, 1, 66.25, 333, 333, 1234.5]"
   ]
  },
  {
   "cell_type": "code",
   "execution_count": 70,
   "metadata": {},
   "outputs": [],
   "source": [
    "del a[0]"
   ]
  },
  {
   "cell_type": "code",
   "execution_count": 71,
   "metadata": {},
   "outputs": [
    {
     "data": {
      "text/plain": [
       "[1, 66.25, 333, 333, 1234.5]"
      ]
     },
     "execution_count": 71,
     "metadata": {},
     "output_type": "execute_result"
    }
   ],
   "source": [
    "a"
   ]
  },
  {
   "cell_type": "code",
   "execution_count": 72,
   "metadata": {},
   "outputs": [],
   "source": [
    "del a[2:4]"
   ]
  },
  {
   "cell_type": "code",
   "execution_count": 73,
   "metadata": {},
   "outputs": [
    {
     "data": {
      "text/plain": [
       "[1, 66.25, 1234.5]"
      ]
     },
     "execution_count": 73,
     "metadata": {},
     "output_type": "execute_result"
    }
   ],
   "source": [
    "a"
   ]
  },
  {
   "cell_type": "code",
   "execution_count": 74,
   "metadata": {},
   "outputs": [],
   "source": [
    "del a[:]"
   ]
  },
  {
   "cell_type": "code",
   "execution_count": 75,
   "metadata": {},
   "outputs": [
    {
     "data": {
      "text/plain": [
       "[]"
      ]
     },
     "execution_count": 75,
     "metadata": {},
     "output_type": "execute_result"
    }
   ],
   "source": [
    "a"
   ]
  },
  {
   "cell_type": "code",
   "execution_count": 76,
   "metadata": {},
   "outputs": [],
   "source": [
    "# Tuples"
   ]
  },
  {
   "cell_type": "code",
   "execution_count": 77,
   "metadata": {},
   "outputs": [],
   "source": [
    "t = 12345, 54321, 'hello!'"
   ]
  },
  {
   "cell_type": "code",
   "execution_count": 78,
   "metadata": {},
   "outputs": [
    {
     "data": {
      "text/plain": [
       "12345"
      ]
     },
     "execution_count": 78,
     "metadata": {},
     "output_type": "execute_result"
    }
   ],
   "source": [
    "t[0]"
   ]
  },
  {
   "cell_type": "code",
   "execution_count": 79,
   "metadata": {},
   "outputs": [
    {
     "data": {
      "text/plain": [
       "(12345, 54321, 'hello!')"
      ]
     },
     "execution_count": 79,
     "metadata": {},
     "output_type": "execute_result"
    }
   ],
   "source": [
    "t"
   ]
  },
  {
   "cell_type": "code",
   "execution_count": 80,
   "metadata": {},
   "outputs": [],
   "source": [
    "u = t,(1,2,3,4,5)"
   ]
  },
  {
   "cell_type": "code",
   "execution_count": 81,
   "metadata": {},
   "outputs": [
    {
     "data": {
      "text/plain": [
       "((12345, 54321, 'hello!'), (1, 2, 3, 4, 5))"
      ]
     },
     "execution_count": 81,
     "metadata": {},
     "output_type": "execute_result"
    }
   ],
   "source": [
    "u"
   ]
  },
  {
   "cell_type": "code",
   "execution_count": 82,
   "metadata": {},
   "outputs": [
    {
     "data": {
      "text/plain": [
       "12345"
      ]
     },
     "execution_count": 82,
     "metadata": {},
     "output_type": "execute_result"
    }
   ],
   "source": [
    "t[0]"
   ]
  },
  {
   "cell_type": "code",
   "execution_count": 83,
   "metadata": {},
   "outputs": [],
   "source": [
    "v = ([1, 2, 3], [3, 2, 1])"
   ]
  },
  {
   "cell_type": "code",
   "execution_count": 84,
   "metadata": {},
   "outputs": [
    {
     "data": {
      "text/plain": [
       "([1, 2, 3], [3, 2, 1])"
      ]
     },
     "execution_count": 84,
     "metadata": {},
     "output_type": "execute_result"
    }
   ],
   "source": [
    "v"
   ]
  },
  {
   "cell_type": "code",
   "execution_count": 85,
   "metadata": {},
   "outputs": [],
   "source": [
    "x, y, z = t"
   ]
  },
  {
   "cell_type": "code",
   "execution_count": 86,
   "metadata": {},
   "outputs": [
    {
     "data": {
      "text/plain": [
       "12345"
      ]
     },
     "execution_count": 86,
     "metadata": {},
     "output_type": "execute_result"
    }
   ],
   "source": [
    "x"
   ]
  },
  {
   "cell_type": "code",
   "execution_count": 87,
   "metadata": {},
   "outputs": [],
   "source": [
    "tel = {'jack': 4098, 'sape': 4139}"
   ]
  },
  {
   "cell_type": "code",
   "execution_count": 88,
   "metadata": {},
   "outputs": [],
   "source": [
    "tel[\"guido\"] = 4127"
   ]
  },
  {
   "cell_type": "code",
   "execution_count": 89,
   "metadata": {},
   "outputs": [
    {
     "data": {
      "text/plain": [
       "{'jack': 4098, 'sape': 4139, 'guido': 4127}"
      ]
     },
     "execution_count": 89,
     "metadata": {},
     "output_type": "execute_result"
    }
   ],
   "source": [
    "tel"
   ]
  },
  {
   "cell_type": "code",
   "execution_count": 90,
   "metadata": {},
   "outputs": [
    {
     "data": {
      "text/plain": [
       "4098"
      ]
     },
     "execution_count": 90,
     "metadata": {},
     "output_type": "execute_result"
    }
   ],
   "source": [
    "tel[\"jack\"]"
   ]
  },
  {
   "cell_type": "code",
   "execution_count": 91,
   "metadata": {},
   "outputs": [],
   "source": [
    "tel[\"irv\"] = 4127"
   ]
  },
  {
   "cell_type": "code",
   "execution_count": 92,
   "metadata": {},
   "outputs": [
    {
     "data": {
      "text/plain": [
       "{'jack': 4098, 'sape': 4139, 'guido': 4127, 'irv': 4127}"
      ]
     },
     "execution_count": 92,
     "metadata": {},
     "output_type": "execute_result"
    }
   ],
   "source": [
    "tel"
   ]
  },
  {
   "cell_type": "code",
   "execution_count": 93,
   "metadata": {},
   "outputs": [],
   "source": [
    "del tel[\"irv\"]"
   ]
  },
  {
   "cell_type": "code",
   "execution_count": 94,
   "metadata": {},
   "outputs": [
    {
     "data": {
      "text/plain": [
       "{'jack': 4098, 'sape': 4139, 'guido': 4127}"
      ]
     },
     "execution_count": 94,
     "metadata": {},
     "output_type": "execute_result"
    }
   ],
   "source": [
    "tel"
   ]
  },
  {
   "cell_type": "code",
   "execution_count": 95,
   "metadata": {},
   "outputs": [
    {
     "data": {
      "text/plain": [
       "['guido', 'jack', 'sape']"
      ]
     },
     "execution_count": 95,
     "metadata": {},
     "output_type": "execute_result"
    }
   ],
   "source": [
    "# tel.sort()\n",
    "sorted(tel)"
   ]
  },
  {
   "cell_type": "code",
   "execution_count": 96,
   "metadata": {
    "tags": []
   },
   "outputs": [
    {
     "data": {
      "text/plain": [
       "{'sape': 4139, 'guido': 4127, 'jack': 4098}"
      ]
     },
     "execution_count": 96,
     "metadata": {},
     "output_type": "execute_result"
    }
   ],
   "source": [
    "x = dict([('sape', 4139), ('guido', 4127), ('jack', 4098)])\n",
    "x"
   ]
  },
  {
   "cell_type": "code",
   "execution_count": 97,
   "metadata": {},
   "outputs": [
    {
     "data": {
      "text/plain": [
       "{'sape': 4139, 'guido': 4127, 'jack': 4098}"
      ]
     },
     "execution_count": 97,
     "metadata": {},
     "output_type": "execute_result"
    }
   ],
   "source": [
    "dict(sape=4139, guido=4127, jack=4098)"
   ]
  },
  {
   "cell_type": "code",
   "execution_count": 98,
   "metadata": {},
   "outputs": [
    {
     "data": {
      "text/plain": [
       "{1: 1, 2: 4, 3: 9, 4: 16, 5: 25}"
      ]
     },
     "execution_count": 98,
     "metadata": {},
     "output_type": "execute_result"
    }
   ],
   "source": [
    "{x:x**2 for x in range(1,6)}"
   ]
  },
  {
   "cell_type": "code",
   "execution_count": 99,
   "metadata": {},
   "outputs": [],
   "source": [
    "knights = {'gallahad': 'the pure', 'robin': 'the brave'}"
   ]
  },
  {
   "cell_type": "code",
   "execution_count": 100,
   "metadata": {},
   "outputs": [
    {
     "data": {
      "text/plain": [
       "dict_items([('gallahad', 'the pure'), ('robin', 'the brave')])"
      ]
     },
     "execution_count": 100,
     "metadata": {},
     "output_type": "execute_result"
    }
   ],
   "source": [
    "knights.items()"
   ]
  },
  {
   "cell_type": "code",
   "execution_count": 101,
   "metadata": {},
   "outputs": [
    {
     "name": "stdout",
     "output_type": "stream",
     "text": [
      "gallahad the pure\n",
      "robin the brave\n"
     ]
    }
   ],
   "source": [
    "for x,y in knights.items():\n",
    "    print(x,y)"
   ]
  },
  {
   "cell_type": "code",
   "execution_count": 102,
   "metadata": {},
   "outputs": [],
   "source": [
    "questions = ['name', 'quest', 'favorite color']\n",
    "answers = ['lancelot', 'the holy grail', 'blue']\n"
   ]
  },
  {
   "cell_type": "code",
   "execution_count": 103,
   "metadata": {},
   "outputs": [
    {
     "name": "stdout",
     "output_type": "stream",
     "text": [
      "What is your name? It is lancelot\n",
      "What is your quest? It is the holy grail\n",
      "What is your favorite color? It is blue\n"
     ]
    }
   ],
   "source": [
    "for q,a in zip(questions,answers):\n",
    "    print(f\"What is your {q}? It is {a}\")"
   ]
  },
  {
   "cell_type": "code",
   "execution_count": 104,
   "metadata": {},
   "outputs": [
    {
     "name": "stdout",
     "output_type": "stream",
     "text": [
      "What is your name? It is lancelot.\n",
      "What is your quest? It is the holy grail.\n",
      "What is your favorite color? It is blue.\n"
     ]
    }
   ],
   "source": [
    "for q,a in zip(questions,answers):\n",
    "    print(\"What is your {0}? It is {1}.\".format(q,a))"
   ]
  },
  {
   "cell_type": "code",
   "execution_count": 105,
   "metadata": {},
   "outputs": [],
   "source": [
    "#loops"
   ]
  },
  {
   "cell_type": "code",
   "execution_count": 106,
   "metadata": {},
   "outputs": [],
   "source": [
    "# for loops"
   ]
  },
  {
   "cell_type": "code",
   "execution_count": 107,
   "metadata": {},
   "outputs": [],
   "source": [
    "# for element in list_like_thing:\n",
    "    # do something with element"
   ]
  },
  {
   "cell_type": "code",
   "execution_count": 108,
   "metadata": {},
   "outputs": [
    {
     "name": "stdout",
     "output_type": "stream",
     "text": [
      "1\n",
      "2\n",
      "3\n",
      "4\n"
     ]
    }
   ],
   "source": [
    "notes = [1,2,3,4]\n",
    "\n",
    "for i in notes:\n",
    "    print(i)"
   ]
  },
  {
   "cell_type": "code",
   "execution_count": 109,
   "metadata": {},
   "outputs": [
    {
     "name": "stdout",
     "output_type": "stream",
     "text": [
      "0\n",
      "1\n",
      "4\n",
      "9\n",
      "16\n"
     ]
    }
   ],
   "source": [
    "for n in range(5):\n",
    "    print(n*n)"
   ]
  },
  {
   "cell_type": "code",
   "execution_count": 110,
   "metadata": {},
   "outputs": [
    {
     "name": "stdout",
     "output_type": "stream",
     "text": [
      "9\n",
      "16\n",
      "25\n",
      "36\n",
      "49\n",
      "64\n",
      "81\n",
      "100\n",
      "121\n",
      "144\n"
     ]
    }
   ],
   "source": [
    "for n in range(3,13):\n",
    "    print(n*n)"
   ]
  },
  {
   "cell_type": "code",
   "execution_count": 111,
   "metadata": {},
   "outputs": [],
   "source": [
    "# while"
   ]
  },
  {
   "cell_type": "code",
   "execution_count": 112,
   "metadata": {},
   "outputs": [],
   "source": [
    "# while condition is true:\n",
    "    # do something"
   ]
  },
  {
   "cell_type": "code",
   "execution_count": 113,
   "metadata": {},
   "outputs": [
    {
     "name": "stdout",
     "output_type": "stream",
     "text": [
      "0\n",
      "1\n",
      "2\n",
      "3\n",
      "4\n"
     ]
    }
   ],
   "source": [
    "i=0\n",
    "while i<5:\n",
    "    print(i)\n",
    "    i = i+1"
   ]
  },
  {
   "cell_type": "code",
   "execution_count": 114,
   "metadata": {},
   "outputs": [],
   "source": [
    "letters = [\"a\",\"b\",\"c\"]\n",
    "numbers = [1,2,3]"
   ]
  },
  {
   "cell_type": "code",
   "execution_count": 115,
   "metadata": {},
   "outputs": [
    {
     "name": "stdout",
     "output_type": "stream",
     "text": [
      "a 1\n",
      "a 2\n",
      "a 3\n",
      "b 1\n",
      "b 2\n",
      "b 3\n",
      "c 1\n",
      "c 2\n",
      "c 3\n"
     ]
    }
   ],
   "source": [
    "for l in letters:\n",
    "    for n in numbers:\n",
    "        print(l,n)"
   ]
  },
  {
   "cell_type": "code",
   "execution_count": 116,
   "metadata": {},
   "outputs": [],
   "source": [
    "plants = {'Dallas': 900, 'Las Vegas': 500, 'Detroit': 832, 'Nashville': 600, 'Los Angeles': 2400, 'Seattle': 1300, 'Denver': 1800}"
   ]
  },
  {
   "cell_type": "code",
   "execution_count": 117,
   "metadata": {},
   "outputs": [
    {
     "data": {
      "text/plain": [
       "{'Dallas': 900,\n",
       " 'Las Vegas': 500,\n",
       " 'Detroit': 832,\n",
       " 'Nashville': 600,\n",
       " 'Los Angeles': 2400,\n",
       " 'Seattle': 1300,\n",
       " 'Denver': 1800}"
      ]
     },
     "execution_count": 117,
     "metadata": {},
     "output_type": "execute_result"
    }
   ],
   "source": [
    "plants"
   ]
  },
  {
   "cell_type": "code",
   "execution_count": 118,
   "metadata": {
    "tags": []
   },
   "outputs": [],
   "source": [
    "updated_plants = []"
   ]
  },
  {
   "cell_type": "code",
   "execution_count": 119,
   "metadata": {},
   "outputs": [
    {
     "data": {
      "text/plain": [
       "900"
      ]
     },
     "execution_count": 119,
     "metadata": {},
     "output_type": "execute_result"
    }
   ],
   "source": [
    "list(plants.values())\n",
    "plants[\"Dallas\"]"
   ]
  },
  {
   "cell_type": "code",
   "execution_count": 120,
   "metadata": {},
   "outputs": [],
   "source": [
    "updated_plants = []\n",
    "for i in list(plants.keys()):\n",
    "    if plants[i]>875:\n",
    "        updated_plants.append(i)\n",
    "    "
   ]
  },
  {
   "cell_type": "code",
   "execution_count": 121,
   "metadata": {},
   "outputs": [
    {
     "data": {
      "text/plain": [
       "['Dallas', 'Los Angeles', 'Seattle', 'Denver']"
      ]
     },
     "execution_count": 121,
     "metadata": {},
     "output_type": "execute_result"
    }
   ],
   "source": [
    "updated_plants"
   ]
  },
  {
   "cell_type": "code",
   "execution_count": 122,
   "metadata": {},
   "outputs": [],
   "source": [
    "# Functions"
   ]
  },
  {
   "cell_type": "code",
   "execution_count": 123,
   "metadata": {},
   "outputs": [],
   "source": [
    "# def func_name(a,b):\n",
    "    # do something with a & b\n",
    "    # return...."
   ]
  },
  {
   "cell_type": "code",
   "execution_count": 124,
   "metadata": {},
   "outputs": [],
   "source": [
    "# return max value of the list\n",
    "def maxval(ls):\n",
    "    mval= ls[0]\n",
    "    for i in ls:\n",
    "        if i > mval:\n",
    "            mval = i\n",
    "    return mval   "
   ]
  },
  {
   "cell_type": "code",
   "execution_count": 125,
   "metadata": {},
   "outputs": [],
   "source": [
    "num = [1,24,4,32,4]"
   ]
  },
  {
   "cell_type": "code",
   "execution_count": 126,
   "metadata": {},
   "outputs": [
    {
     "data": {
      "text/plain": [
       "32"
      ]
     },
     "execution_count": 126,
     "metadata": {},
     "output_type": "execute_result"
    }
   ],
   "source": [
    "maxval(num)"
   ]
  },
  {
   "cell_type": "code",
   "execution_count": 127,
   "metadata": {},
   "outputs": [],
   "source": [
    "num_dict = {\"a\":34, \"b\":45, \"c\":4}"
   ]
  },
  {
   "cell_type": "code",
   "execution_count": 128,
   "metadata": {},
   "outputs": [
    {
     "ename": "KeyError",
     "evalue": "0",
     "output_type": "error",
     "traceback": [
      "\u001b[0;31m---------------------------------------------------------------------------\u001b[0m",
      "\u001b[0;31mKeyError\u001b[0m                                  Traceback (most recent call last)",
      "\u001b[0;32m<ipython-input-128-659186697dc1>\u001b[0m in \u001b[0;36m<module>\u001b[0;34m\u001b[0m\n\u001b[0;32m----> 1\u001b[0;31m \u001b[0mmaxval\u001b[0m\u001b[0;34m(\u001b[0m\u001b[0mnum_dict\u001b[0m\u001b[0;34m)\u001b[0m\u001b[0;34m\u001b[0m\u001b[0;34m\u001b[0m\u001b[0m\n\u001b[0m",
      "\u001b[0;32m<ipython-input-124-f1ebe6127536>\u001b[0m in \u001b[0;36mmaxval\u001b[0;34m(ls)\u001b[0m\n\u001b[1;32m      1\u001b[0m \u001b[0;31m# return max value of the list\u001b[0m\u001b[0;34m\u001b[0m\u001b[0;34m\u001b[0m\u001b[0;34m\u001b[0m\u001b[0m\n\u001b[1;32m      2\u001b[0m \u001b[0;32mdef\u001b[0m \u001b[0mmaxval\u001b[0m\u001b[0;34m(\u001b[0m\u001b[0mls\u001b[0m\u001b[0;34m)\u001b[0m\u001b[0;34m:\u001b[0m\u001b[0;34m\u001b[0m\u001b[0;34m\u001b[0m\u001b[0m\n\u001b[0;32m----> 3\u001b[0;31m     \u001b[0mmval\u001b[0m\u001b[0;34m=\u001b[0m \u001b[0mls\u001b[0m\u001b[0;34m[\u001b[0m\u001b[0;36m0\u001b[0m\u001b[0;34m]\u001b[0m\u001b[0;34m\u001b[0m\u001b[0;34m\u001b[0m\u001b[0m\n\u001b[0m\u001b[1;32m      4\u001b[0m     \u001b[0;32mfor\u001b[0m \u001b[0mi\u001b[0m \u001b[0;32min\u001b[0m \u001b[0mls\u001b[0m\u001b[0;34m:\u001b[0m\u001b[0;34m\u001b[0m\u001b[0;34m\u001b[0m\u001b[0m\n\u001b[1;32m      5\u001b[0m         \u001b[0;32mif\u001b[0m \u001b[0mi\u001b[0m \u001b[0;34m>\u001b[0m \u001b[0mmval\u001b[0m\u001b[0;34m:\u001b[0m\u001b[0;34m\u001b[0m\u001b[0;34m\u001b[0m\u001b[0m\n",
      "\u001b[0;31mKeyError\u001b[0m: 0"
     ]
    }
   ],
   "source": [
    "maxval(num_dict)"
   ]
  },
  {
   "cell_type": "code",
   "execution_count": 129,
   "metadata": {},
   "outputs": [
    {
     "name": "stdout",
     "output_type": "stream",
     "text": [
      "CPU times: user 2 µs, sys: 0 ns, total: 2 µs\n",
      "Wall time: 4.77 µs\n"
     ]
    },
    {
     "data": {
      "text/plain": [
       "32"
      ]
     },
     "execution_count": 129,
     "metadata": {},
     "output_type": "execute_result"
    }
   ],
   "source": [
    "%time\n",
    "maxval(num)"
   ]
  },
  {
   "cell_type": "code",
   "execution_count": 130,
   "metadata": {},
   "outputs": [
    {
     "name": "stdout",
     "output_type": "stream",
     "text": [
      "CPU times: user 1e+03 ns, sys: 0 ns, total: 1e+03 ns\n",
      "Wall time: 2.62 µs\n"
     ]
    },
    {
     "data": {
      "text/plain": [
       "32"
      ]
     },
     "execution_count": 130,
     "metadata": {},
     "output_type": "execute_result"
    }
   ],
   "source": [
    "%time\n",
    "max(num)"
   ]
  },
  {
   "cell_type": "code",
   "execution_count": 131,
   "metadata": {},
   "outputs": [
    {
     "data": {
      "text/plain": [
       "'r'"
      ]
     },
     "execution_count": 131,
     "metadata": {},
     "output_type": "execute_result"
    }
   ],
   "source": [
    "maxval(\"Zebra\")"
   ]
  },
  {
   "cell_type": "code",
   "execution_count": 132,
   "metadata": {},
   "outputs": [],
   "source": [
    "def prod(a,b):\n",
    "    return a*b"
   ]
  },
  {
   "cell_type": "code",
   "execution_count": 133,
   "metadata": {},
   "outputs": [
    {
     "data": {
      "text/plain": [
       "6"
      ]
     },
     "execution_count": 133,
     "metadata": {},
     "output_type": "execute_result"
    }
   ],
   "source": [
    "prod(2,3)"
   ]
  },
  {
   "cell_type": "code",
   "execution_count": 134,
   "metadata": {},
   "outputs": [
    {
     "data": {
      "text/plain": [
       "'aaaaa'"
      ]
     },
     "execution_count": 134,
     "metadata": {},
     "output_type": "execute_result"
    }
   ],
   "source": [
    "prod(\"a\",5)"
   ]
  },
  {
   "cell_type": "code",
   "execution_count": 135,
   "metadata": {},
   "outputs": [
    {
     "data": {
      "text/plain": [
       "['a', 'b', 'c', 'a', 'b', 'c', 'a', 'b', 'c']"
      ]
     },
     "execution_count": 135,
     "metadata": {},
     "output_type": "execute_result"
    }
   ],
   "source": [
    "prod([\"a\",\"b\",\"c\"],3)"
   ]
  },
  {
   "cell_type": "code",
   "execution_count": 136,
   "metadata": {},
   "outputs": [],
   "source": [
    "def sing(notes):\n",
    "    for note in notes:\n",
    "        print(\"Sing {0}\".format(note))"
   ]
  },
  {
   "cell_type": "code",
   "execution_count": 137,
   "metadata": {},
   "outputs": [
    {
     "name": "stdout",
     "output_type": "stream",
     "text": [
      "Sing a\n",
      "Sing b\n",
      "Sing c\n"
     ]
    }
   ],
   "source": [
    "sing(\"abc\")"
   ]
  },
  {
   "cell_type": "code",
   "execution_count": 138,
   "metadata": {},
   "outputs": [
    {
     "name": "stdout",
     "output_type": "stream",
     "text": [
      "Sing a\n",
      "Sing b\n",
      "Sing c\n"
     ]
    }
   ],
   "source": [
    "sing([\"a\", \"b\", \"c\"])"
   ]
  },
  {
   "cell_type": "code",
   "execution_count": null,
   "metadata": {},
   "outputs": [],
   "source": []
  },
  {
   "cell_type": "code",
   "execution_count": 139,
   "metadata": {
    "tags": []
   },
   "outputs": [],
   "source": [
    "def dictionary_creator(list1, list2):\n",
    "    if len(list1) != len(list2):\n",
    "        return \"Error\"\n",
    "    else:\n",
    "        dict_list={}\n",
    "        for i, j in zip(list1,list2):\n",
    "            dict_list[i] = j\n",
    "        return dict_list"
   ]
  },
  {
   "cell_type": "code",
   "execution_count": 140,
   "metadata": {},
   "outputs": [
    {
     "data": {
      "text/plain": [
       "'Error'"
      ]
     },
     "execution_count": 140,
     "metadata": {},
     "output_type": "execute_result"
    }
   ],
   "source": [
    "dictionary_creator(['monkeys', 'pirates', 'captains'], [1,2])"
   ]
  },
  {
   "cell_type": "code",
   "execution_count": 141,
   "metadata": {},
   "outputs": [
    {
     "data": {
      "text/plain": [
       "{'a': 1, 'b': 2, 'c': 3}"
      ]
     },
     "execution_count": 141,
     "metadata": {},
     "output_type": "execute_result"
    }
   ],
   "source": [
    "dictionary_creator(['a', 'b', 'c'], [1,2,3])"
   ]
  },
  {
   "cell_type": "code",
   "execution_count": 142,
   "metadata": {},
   "outputs": [],
   "source": [
    "dict_list={}\n",
    "dict_list[\"a\"] = 1"
   ]
  },
  {
   "cell_type": "code",
   "execution_count": 143,
   "metadata": {},
   "outputs": [],
   "source": [
    "list1 = ['a', 'b', 'c']\n",
    "list2 = [1,2,3]"
   ]
  },
  {
   "cell_type": "code",
   "execution_count": 144,
   "metadata": {},
   "outputs": [
    {
     "data": {
      "text/plain": [
       "<zip at 0x7f81d0128e80>"
      ]
     },
     "execution_count": 144,
     "metadata": {},
     "output_type": "execute_result"
    }
   ],
   "source": [
    "zip(list1,list2)"
   ]
  },
  {
   "cell_type": "code",
   "execution_count": 145,
   "metadata": {},
   "outputs": [],
   "source": [
    "def dictionary_creator(list1, list2):\n",
    "    if len(list1) != len(list2):\n",
    "        return \"Error\"\n",
    "    else:\n",
    "        dict_list={}\n",
    "        for i in range(len(list1)): # traversing through whole range of list \n",
    "            dict_list[list1[i]] = list2[i]\n",
    "        return dict_list"
   ]
  },
  {
   "cell_type": "code",
   "execution_count": 146,
   "metadata": {},
   "outputs": [],
   "source": [
    "def TripleSum(a,b,c=0):\n",
    "    print(a+b+c)"
   ]
  },
  {
   "cell_type": "code",
   "execution_count": 147,
   "metadata": {},
   "outputs": [
    {
     "name": "stdout",
     "output_type": "stream",
     "text": [
      "6\n"
     ]
    }
   ],
   "source": [
    "TripleSum(1,2,3)"
   ]
  },
  {
   "cell_type": "code",
   "execution_count": 148,
   "metadata": {},
   "outputs": [
    {
     "name": "stdout",
     "output_type": "stream",
     "text": [
      "6\n"
     ]
    }
   ],
   "source": [
    "TripleSum(1,2,c=3)"
   ]
  },
  {
   "cell_type": "code",
   "execution_count": 149,
   "metadata": {},
   "outputs": [
    {
     "name": "stdout",
     "output_type": "stream",
     "text": [
      "6\n"
     ]
    }
   ],
   "source": [
    "TripleSum(b=1,a=2,c=3)"
   ]
  },
  {
   "cell_type": "code",
   "execution_count": 150,
   "metadata": {},
   "outputs": [
    {
     "name": "stdout",
     "output_type": "stream",
     "text": [
      "11\n"
     ]
    }
   ],
   "source": [
    "TripleSum(4,7)"
   ]
  },
  {
   "cell_type": "code",
   "execution_count": 151,
   "metadata": {},
   "outputs": [
    {
     "name": "stdout",
     "output_type": "stream",
     "text": [
      "11\n"
     ]
    }
   ],
   "source": [
    "TripleSum(b=4,a=7)"
   ]
  },
  {
   "cell_type": "code",
   "execution_count": 152,
   "metadata": {},
   "outputs": [
    {
     "ename": "SyntaxError",
     "evalue": "positional argument follows keyword argument (<ipython-input-152-8764acb7ab7c>, line 1)",
     "output_type": "error",
     "traceback": [
      "\u001b[0;36m  File \u001b[0;32m\"<ipython-input-152-8764acb7ab7c>\"\u001b[0;36m, line \u001b[0;32m1\u001b[0m\n\u001b[0;31m    TripleSum(a = 1, 2, 3)\u001b[0m\n\u001b[0m                     ^\u001b[0m\n\u001b[0;31mSyntaxError\u001b[0m\u001b[0;31m:\u001b[0m positional argument follows keyword argument\n"
     ]
    }
   ],
   "source": [
    "TripleSum(a = 1, 2, 3)"
   ]
  },
  {
   "cell_type": "code",
   "execution_count": 153,
   "metadata": {},
   "outputs": [
    {
     "ename": "SyntaxError",
     "evalue": "positional argument follows keyword argument (<ipython-input-153-3579280b1459>, line 1)",
     "output_type": "error",
     "traceback": [
      "\u001b[0;36m  File \u001b[0;32m\"<ipython-input-153-3579280b1459>\"\u001b[0;36m, line \u001b[0;32m1\u001b[0m\n\u001b[0;31m    TripleSum(b = 1, 2)\u001b[0m\n\u001b[0m                     ^\u001b[0m\n\u001b[0;31mSyntaxError\u001b[0m\u001b[0;31m:\u001b[0m positional argument follows keyword argument\n"
     ]
    }
   ],
   "source": [
    "TripleSum(b = 1, 2)"
   ]
  },
  {
   "cell_type": "code",
   "execution_count": 154,
   "metadata": {},
   "outputs": [],
   "source": [
    "# Parameters are the input variables bounded by parentheses when defining a function, whereas arguments are the values assigned to these parameters when passed into a function (or method) during a function call"
   ]
  },
  {
   "cell_type": "code",
   "execution_count": 155,
   "metadata": {},
   "outputs": [
    {
     "name": "stdout",
     "output_type": "stream",
     "text": [
      "Abena\n",
      "Marilyn\n"
     ]
    }
   ],
   "source": [
    "def team(*members):\n",
    "    for member in members:\n",
    "        print(member)\n",
    "        \n",
    "team(\"Abena\", \"Marilyn\")"
   ]
  },
  {
   "cell_type": "code",
   "execution_count": 156,
   "metadata": {},
   "outputs": [
    {
     "name": "stdout",
     "output_type": "stream",
     "text": [
      "Abena\n",
      "Marilyn\n",
      "Name: FemCode\n",
      "Project: Edpresso\n",
      "Number: Two Members\n"
     ]
    }
   ],
   "source": [
    "def team(*members, **features):\n",
    "    for member in members:\n",
    "        print(member)\n",
    "    \n",
    "    \n",
    "    for key,value in features.items():\n",
    "        print(\"{}: {}\".format(key,value))\n",
    "\n",
    "team(\"Abena\", \"Marilyn\", Name = \"FemCode\", Project = \"Edpresso\", Number = \"Two Members\")"
   ]
  },
  {
   "cell_type": "code",
   "execution_count": 157,
   "metadata": {},
   "outputs": [],
   "source": [
    "# library/package - collection of module\n",
    "# module - file with defs/statements"
   ]
  },
  {
   "cell_type": "code",
   "execution_count": 158,
   "metadata": {},
   "outputs": [],
   "source": [
    "import numpy as np"
   ]
  },
  {
   "cell_type": "code",
   "execution_count": 159,
   "metadata": {},
   "outputs": [],
   "source": [
    "# numpy - numperical tools, N-dim arrays\n",
    "# import package as abbrev"
   ]
  },
  {
   "cell_type": "code",
   "execution_count": 160,
   "metadata": {},
   "outputs": [],
   "source": [
    "nums = np.random.rand(10) "
   ]
  },
  {
   "cell_type": "code",
   "execution_count": 161,
   "metadata": {},
   "outputs": [
    {
     "data": {
      "text/plain": [
       "array([0.12582554, 0.23932846, 0.13891043, 0.04221127, 0.72151069,\n",
       "       0.07551822, 0.22433743, 0.17112386, 0.75236439, 0.86001098])"
      ]
     },
     "execution_count": 161,
     "metadata": {},
     "output_type": "execute_result"
    }
   ],
   "source": [
    "nums"
   ]
  },
  {
   "cell_type": "code",
   "execution_count": 162,
   "metadata": {},
   "outputs": [],
   "source": [
    "#np (library) --> random (module) ---> rand (function)"
   ]
  },
  {
   "cell_type": "code",
   "execution_count": 163,
   "metadata": {},
   "outputs": [],
   "source": [
    "mat = np.random.rand(3,4) # 3 by 4 matrix"
   ]
  },
  {
   "cell_type": "code",
   "execution_count": 164,
   "metadata": {},
   "outputs": [
    {
     "data": {
      "text/plain": [
       "array([[0.45830695, 0.5514592 , 0.34047417, 0.33139322],\n",
       "       [0.95734376, 0.10312751, 0.83442831, 0.19953323],\n",
       "       [0.93359699, 0.13891316, 0.8001658 , 0.69448903]])"
      ]
     },
     "execution_count": 164,
     "metadata": {},
     "output_type": "execute_result"
    }
   ],
   "source": [
    "mat"
   ]
  },
  {
   "cell_type": "code",
   "execution_count": 165,
   "metadata": {},
   "outputs": [],
   "source": [
    "# nums and mat are no arrays"
   ]
  },
  {
   "cell_type": "code",
   "execution_count": 166,
   "metadata": {},
   "outputs": [
    {
     "data": {
      "text/plain": [
       "0.2971086832173964"
      ]
     },
     "execution_count": 166,
     "metadata": {},
     "output_type": "execute_result"
    }
   ],
   "source": [
    "nums.std()  # std method"
   ]
  },
  {
   "cell_type": "code",
   "execution_count": 167,
   "metadata": {},
   "outputs": [
    {
     "data": {
      "text/plain": [
       "array([0.45830695, 1.00976614, 1.35024031, 1.68163353, 2.63897729,\n",
       "       2.7421048 , 3.57653311, 3.77606634, 4.70966334, 4.84857649,\n",
       "       5.64874229, 6.34323132])"
      ]
     },
     "execution_count": 167,
     "metadata": {},
     "output_type": "execute_result"
    }
   ],
   "source": [
    "mat.cumsum() # cumulative sum"
   ]
  },
  {
   "cell_type": "code",
   "execution_count": 168,
   "metadata": {},
   "outputs": [
    {
     "data": {
      "text/plain": [
       "array([[0.45830695, 1.00976614, 1.35024031, 1.68163353],\n",
       "       [0.95734376, 1.06047127, 1.89489958, 2.09443281],\n",
       "       [0.93359699, 1.07251015, 1.87267595, 2.56716498]])"
      ]
     },
     "execution_count": 168,
     "metadata": {},
     "output_type": "execute_result"
    }
   ],
   "source": [
    "mat.cumsum(1) # cumulative sum along rows"
   ]
  },
  {
   "cell_type": "code",
   "execution_count": 169,
   "metadata": {},
   "outputs": [
    {
     "data": {
      "text/plain": [
       "0.2971086832173964"
      ]
     },
     "execution_count": 169,
     "metadata": {},
     "output_type": "execute_result"
    }
   ],
   "source": [
    "np.std(nums) # std is a function with np library"
   ]
  },
  {
   "cell_type": "code",
   "execution_count": 170,
   "metadata": {},
   "outputs": [
    {
     "data": {
      "text/plain": [
       "1.118033988749895"
      ]
     },
     "execution_count": 170,
     "metadata": {},
     "output_type": "execute_result"
    }
   ],
   "source": [
    "np.std([1,2,3,4,])"
   ]
  },
  {
   "cell_type": "code",
   "execution_count": 171,
   "metadata": {},
   "outputs": [
    {
     "ename": "AttributeError",
     "evalue": "'list' object has no attribute 'std'",
     "output_type": "error",
     "traceback": [
      "\u001b[0;31m---------------------------------------------------------------------------\u001b[0m",
      "\u001b[0;31mAttributeError\u001b[0m                            Traceback (most recent call last)",
      "\u001b[0;32m<ipython-input-171-576dde4707aa>\u001b[0m in \u001b[0;36m<module>\u001b[0;34m\u001b[0m\n\u001b[0;32m----> 1\u001b[0;31m \u001b[0;34m(\u001b[0m\u001b[0;34m[\u001b[0m\u001b[0;36m1\u001b[0m\u001b[0;34m,\u001b[0m\u001b[0;36m2\u001b[0m\u001b[0;34m,\u001b[0m\u001b[0;36m3\u001b[0m\u001b[0;34m,\u001b[0m\u001b[0;36m4\u001b[0m\u001b[0;34m,\u001b[0m\u001b[0;34m]\u001b[0m\u001b[0;34m)\u001b[0m\u001b[0;34m.\u001b[0m\u001b[0mstd\u001b[0m\u001b[0;34m(\u001b[0m\u001b[0;34m)\u001b[0m\u001b[0;34m\u001b[0m\u001b[0;34m\u001b[0m\u001b[0m\n\u001b[0m",
      "\u001b[0;31mAttributeError\u001b[0m: 'list' object has no attribute 'std'"
     ]
    }
   ],
   "source": [
    "([1,2,3,4,]).std()"
   ]
  },
  {
   "cell_type": "code",
   "execution_count": 173,
   "metadata": {},
   "outputs": [
    {
     "name": "stdout",
     "output_type": "stream",
     "text": [
      "Collecting PULP\n",
      "  Using cached PuLP-2.5.1-py3-none-any.whl (41.2 MB)\n",
      "Installing collected packages: PULP\n",
      "Successfully installed PULP-2.5.1\n"
     ]
    }
   ],
   "source": [
    "!pip install PULP"
   ]
  },
  {
   "cell_type": "code",
   "execution_count": 174,
   "metadata": {},
   "outputs": [
    {
     "name": "stderr",
     "output_type": "stream",
     "text": [
      "ssssssssssssssssssssssssssssssssssssssssssssssssssssssssssssssssssssssssssssssssssssssssssssssssssssssssssssssssssssssssssssssssssssssssssssssssssssssssssssssssssssssssssssssssssssssssssssssssssssssssssssssssssssssssssssssssssssssssssssssssssssssssssssssssssssssssssssssssssssssssssssssssssssssssssssssssssssssssssssssssssssssssssssssssssssssssssssssssssssssssssssssssssssssssssssssssssssssssssssssssssssssssssssssssssssssssssssssssssssssssssssssssssssssssssssssssssssssssssssssssssssssssssssssssssssssssssssssssssssssssssssssssss."
     ]
    },
    {
     "name": "stdout",
     "output_type": "stream",
     "text": [
      "\t Testing invalid status\n",
      "\t Testing continuous LP solution - export dict\n"
     ]
    },
    {
     "name": "stderr",
     "output_type": "stream",
     "text": [
      "................"
     ]
    },
    {
     "name": "stdout",
     "output_type": "stream",
     "text": [
      "\t Testing export dict for LP\n",
      "\t Testing export dict MIP\n",
      "\t Testing maximize continuous LP solution\n",
      "\t Testing continuous LP solution - export JSON\n",
      "\t Testing continuous LP solution - export solver dict\n",
      "\t Testing continuous LP solution - export solver JSON\n",
      "\t Testing reading MPS files - binary variable, no constraint names\n",
      "\t Testing reading MPS files - integer variable\n",
      "\t Testing reading MPS files - maximize\n",
      "\t Testing invalid var names\n",
      "\t Testing logPath argument\n",
      "\t Testing makeDict general behavior\n",
      "\t Testing makeDict default value behavior\n",
      "\t Testing measuring optimization time\n"
     ]
    },
    {
     "name": "stderr",
     "output_type": "stream",
     "text": [
      "................"
     ]
    },
    {
     "name": "stdout",
     "output_type": "stream",
     "text": [
      "\t Testing the availability of the function pulpTestAll\n",
      "\t Testing zero subtraction\n",
      "\t Testing inconsistent lp solution\n",
      "\t Testing continuous LP solution\n",
      "\t Testing maximize continuous LP solution\n",
      "\t Testing unbounded continuous LP solution\n",
      "\t Testing Long Names\n",
      "\t Testing repeated Names\n",
      "\t Testing zero constraint\n",
      "\t Testing zero objective\n",
      "\t Testing LpVariable (not LpAffineExpression) objective\n",
      "\t Testing Long lines in LP\n",
      "\t Testing LpAffineExpression divide\n",
      "\t Testing MIP solution\n",
      "\t Testing MIP solution with floats in objective\n",
      "\t Testing Initial value in MIP solution\n"
     ]
    },
    {
     "name": "stderr",
     "output_type": "stream",
     "text": [
      "................."
     ]
    },
    {
     "name": "stdout",
     "output_type": "stream",
     "text": [
      "\t Testing fixing value in MIP solution\n",
      "\t Testing MIP relaxation\n",
      "\t Testing feasibility problem (no objective)\n",
      "\t Testing an infeasible problem\n",
      "\t Testing an integer infeasible problem\n",
      "\t Testing another integer infeasible problem\n",
      "\t Testing column based modelling\n",
      "\t Testing dual variables and slacks reporting\n",
      "\t Testing fractional constraints\n",
      "\t Testing elastic constraints (no change)\n",
      "\t Testing elastic constraints (freebound)\n",
      "\t Testing elastic constraints (penalty unchanged)\n",
      "\t Testing elastic constraints (penalty unbounded)\n",
      "\t Testing timeLimit argument\n"
     ]
    },
    {
     "name": "stderr",
     "output_type": "stream",
     "text": [
      "...."
     ]
    },
    {
     "name": "stdout",
     "output_type": "stream",
     "text": [
      "\t Testing invalid status\n",
      "\t Testing continuous LP solution - export dict\n"
     ]
    },
    {
     "name": "stderr",
     "output_type": "stream",
     "text": [
      "."
     ]
    },
    {
     "name": "stdout",
     "output_type": "stream",
     "text": [
      "\t Testing export dict for LP\n"
     ]
    },
    {
     "name": "stderr",
     "output_type": "stream",
     "text": [
      "."
     ]
    },
    {
     "name": "stdout",
     "output_type": "stream",
     "text": [
      "\t Testing export dict MIP\n"
     ]
    },
    {
     "name": "stderr",
     "output_type": "stream",
     "text": [
      "."
     ]
    },
    {
     "name": "stdout",
     "output_type": "stream",
     "text": [
      "\t Testing maximize continuous LP solution\n"
     ]
    },
    {
     "name": "stderr",
     "output_type": "stream",
     "text": [
      "."
     ]
    },
    {
     "name": "stdout",
     "output_type": "stream",
     "text": [
      "\t Testing continuous LP solution - export JSON\n"
     ]
    },
    {
     "name": "stderr",
     "output_type": "stream",
     "text": [
      "."
     ]
    },
    {
     "name": "stdout",
     "output_type": "stream",
     "text": [
      "\t Testing continuous LP solution - export solver dict\n"
     ]
    },
    {
     "name": "stderr",
     "output_type": "stream",
     "text": [
      "."
     ]
    },
    {
     "name": "stdout",
     "output_type": "stream",
     "text": [
      "\t Testing continuous LP solution - export solver JSON\n"
     ]
    },
    {
     "name": "stderr",
     "output_type": "stream",
     "text": [
      "....."
     ]
    },
    {
     "name": "stdout",
     "output_type": "stream",
     "text": [
      "\t Testing reading MPS files - binary variable, no constraint names\n",
      "\t Testing reading MPS files - integer variable\n",
      "\t Testing reading MPS files - maximize\n"
     ]
    },
    {
     "name": "stderr",
     "output_type": "stream",
     "text": [
      "."
     ]
    },
    {
     "name": "stdout",
     "output_type": "stream",
     "text": [
      "\t Testing invalid var names\n"
     ]
    },
    {
     "name": "stderr",
     "output_type": "stream",
     "text": [
      "........"
     ]
    },
    {
     "name": "stdout",
     "output_type": "stream",
     "text": [
      "\t Testing makeDict general behavior\n",
      "\t Testing makeDict default value behavior\n",
      "\t Testing measuring optimization time\n",
      "\t Testing the availability of the function pulpTestAll\n",
      "\t Testing zero subtraction\n",
      "\t Testing inconsistent lp solution\n",
      "\t Testing continuous LP solution\n"
     ]
    },
    {
     "name": "stderr",
     "output_type": "stream",
     "text": [
      "."
     ]
    },
    {
     "name": "stdout",
     "output_type": "stream",
     "text": [
      "\t Testing maximize continuous LP solution\n"
     ]
    },
    {
     "name": "stderr",
     "output_type": "stream",
     "text": [
      ".."
     ]
    },
    {
     "name": "stdout",
     "output_type": "stream",
     "text": [
      "\t Testing unbounded continuous LP solution\n",
      "\t Testing Long Names\n"
     ]
    },
    {
     "name": "stderr",
     "output_type": "stream",
     "text": [
      ".."
     ]
    },
    {
     "name": "stdout",
     "output_type": "stream",
     "text": [
      "\t Testing repeated Names\n",
      "\t Testing zero constraint\n"
     ]
    },
    {
     "name": "stderr",
     "output_type": "stream",
     "text": [
      "."
     ]
    },
    {
     "name": "stdout",
     "output_type": "stream",
     "text": [
      "\t Testing zero objective\n"
     ]
    },
    {
     "name": "stderr",
     "output_type": "stream",
     "text": [
      "."
     ]
    },
    {
     "name": "stdout",
     "output_type": "stream",
     "text": [
      "\t Testing LpVariable (not LpAffineExpression) objective\n"
     ]
    },
    {
     "name": "stderr",
     "output_type": "stream",
     "text": [
      ".."
     ]
    },
    {
     "name": "stdout",
     "output_type": "stream",
     "text": [
      "\t Testing LpAffineExpression divide\n"
     ]
    },
    {
     "name": "stderr",
     "output_type": "stream",
     "text": [
      "."
     ]
    },
    {
     "name": "stdout",
     "output_type": "stream",
     "text": [
      "\t Testing MIP solution\n"
     ]
    },
    {
     "name": "stderr",
     "output_type": "stream",
     "text": [
      "."
     ]
    },
    {
     "name": "stdout",
     "output_type": "stream",
     "text": [
      "\t Testing MIP solution with floats in objective\n"
     ]
    },
    {
     "name": "stderr",
     "output_type": "stream",
     "text": [
      "."
     ]
    },
    {
     "name": "stdout",
     "output_type": "stream",
     "text": [
      "\t Testing Initial value in MIP solution\n"
     ]
    },
    {
     "name": "stderr",
     "output_type": "stream",
     "text": [
      "."
     ]
    },
    {
     "name": "stdout",
     "output_type": "stream",
     "text": [
      "\t Testing fixing value in MIP solution\n"
     ]
    },
    {
     "name": "stderr",
     "output_type": "stream",
     "text": [
      "./Users/a0k00qb/opt/anaconda3/lib/python3.8/site-packages/pulp/apis/choco_api.py:101: UserWarning: CHOCO_CMD cannot solve the relaxation of a problem\n",
      "  warnings.warn(\"CHOCO_CMD cannot solve the relaxation of a problem\")\n"
     ]
    },
    {
     "name": "stdout",
     "output_type": "stream",
     "text": [
      "\t Testing MIP relaxation\n"
     ]
    },
    {
     "name": "stderr",
     "output_type": "stream",
     "text": [
      "."
     ]
    },
    {
     "name": "stdout",
     "output_type": "stream",
     "text": [
      "\t Testing feasibility problem (no objective)\n"
     ]
    },
    {
     "name": "stderr",
     "output_type": "stream",
     "text": [
      "."
     ]
    },
    {
     "name": "stdout",
     "output_type": "stream",
     "text": [
      "\t Testing an infeasible problem\n"
     ]
    },
    {
     "name": "stderr",
     "output_type": "stream",
     "text": [
      "."
     ]
    },
    {
     "name": "stdout",
     "output_type": "stream",
     "text": [
      "\t Testing an integer infeasible problem\n"
     ]
    },
    {
     "name": "stderr",
     "output_type": "stream",
     "text": [
      "."
     ]
    },
    {
     "name": "stdout",
     "output_type": "stream",
     "text": [
      "\t Testing another integer infeasible problem\n"
     ]
    },
    {
     "name": "stderr",
     "output_type": "stream",
     "text": [
      "."
     ]
    },
    {
     "name": "stdout",
     "output_type": "stream",
     "text": [
      "\t Testing column based modelling\n"
     ]
    },
    {
     "name": "stderr",
     "output_type": "stream",
     "text": [
      "....."
     ]
    },
    {
     "name": "stdout",
     "output_type": "stream",
     "text": [
      "\t Testing fractional constraints\n"
     ]
    },
    {
     "name": "stderr",
     "output_type": "stream",
     "text": [
      "."
     ]
    },
    {
     "name": "stdout",
     "output_type": "stream",
     "text": [
      "\t Testing elastic constraints (no change)\n"
     ]
    },
    {
     "name": "stderr",
     "output_type": "stream",
     "text": [
      "."
     ]
    },
    {
     "name": "stdout",
     "output_type": "stream",
     "text": [
      "\t Testing elastic constraints (freebound)\n"
     ]
    },
    {
     "name": "stderr",
     "output_type": "stream",
     "text": [
      "."
     ]
    },
    {
     "name": "stdout",
     "output_type": "stream",
     "text": [
      "\t Testing elastic constraints (penalty unchanged)\n"
     ]
    },
    {
     "name": "stderr",
     "output_type": "stream",
     "text": [
      "...."
     ]
    },
    {
     "name": "stdout",
     "output_type": "stream",
     "text": [
      "\t Testing elastic constraints (penalty unbounded)\n",
      "\t Testing timeLimit argument\n"
     ]
    },
    {
     "name": "stderr",
     "output_type": "stream",
     "text": [
      ".ssssssssssssssssssssssssssssssssssssssssssssssssssssssssssssssssssssssssssssssssssssssssssssssssssssssssssssssssssssssssssssssssssssssssssssssssssssssssssssssssssssssssssssssssssssssssssssssssssssssssssssssssssss\n",
      "----------------------------------------------------------------------\n",
      "Ran 848 tests in 33.830s\n",
      "\n",
      "OK (skipped=742)\n"
     ]
    }
   ],
   "source": [
    "import pandas as pd\n",
    "\n",
    "import pulp\n",
    "pulp.pulpTestAll()"
   ]
  },
  {
   "cell_type": "code",
   "execution_count": 175,
   "metadata": {
    "collapsed": true,
    "jupyter": {
     "outputs_hidden": true
    }
   },
   "outputs": [
    {
     "data": {
      "text/plain": [
       "['CHOCO_CMD',\n",
       " 'COIN',\n",
       " 'COINMP_DLL',\n",
       " 'COINMP_DLL_load_dll',\n",
       " 'COIN_CMD',\n",
       " 'CPLEX',\n",
       " 'CPLEX_CMD',\n",
       " 'CPLEX_PY',\n",
       " 'DIRNAME',\n",
       " 'EPS',\n",
       " 'FixedElasticSubProblem',\n",
       " 'FractionElasticSubProblem',\n",
       " 'GLPK',\n",
       " 'GLPK_CMD',\n",
       " 'GUROBI',\n",
       " 'GUROBI_CMD',\n",
       " 'Iterable',\n",
       " 'LpAffineExpression',\n",
       " 'LpBinary',\n",
       " 'LpCategories',\n",
       " 'LpConstraint',\n",
       " 'LpConstraintEQ',\n",
       " 'LpConstraintGE',\n",
       " 'LpConstraintLE',\n",
       " 'LpConstraintSenses',\n",
       " 'LpConstraintTypeToMps',\n",
       " 'LpConstraintVar',\n",
       " 'LpContinuous',\n",
       " 'LpCplexLPLineSize',\n",
       " 'LpElement',\n",
       " 'LpFractionConstraint',\n",
       " 'LpInteger',\n",
       " 'LpMaximize',\n",
       " 'LpMinimize',\n",
       " 'LpProblem',\n",
       " 'LpSenses',\n",
       " 'LpSolution',\n",
       " 'LpSolutionInfeasible',\n",
       " 'LpSolutionIntegerFeasible',\n",
       " 'LpSolutionNoSolutionFound',\n",
       " 'LpSolutionOptimal',\n",
       " 'LpSolutionUnbounded',\n",
       " 'LpSolver',\n",
       " 'LpSolverDefault',\n",
       " 'LpSolver_CMD',\n",
       " 'LpStatus',\n",
       " 'LpStatusInfeasible',\n",
       " 'LpStatusNotSolved',\n",
       " 'LpStatusOptimal',\n",
       " 'LpStatusToSolution',\n",
       " 'LpStatusUnbounded',\n",
       " 'LpStatusUndefined',\n",
       " 'LpVariable',\n",
       " 'MIPCL_CMD',\n",
       " 'MOSEK',\n",
       " 'OrderedDict',\n",
       " 'PULPCFGFILE',\n",
       " 'PULP_CBC_CMD',\n",
       " 'PULP_CHOCO_CMD',\n",
       " 'PYGLPK',\n",
       " 'Parser',\n",
       " 'PulpError',\n",
       " 'PulpSolverError',\n",
       " 'SCIP',\n",
       " 'SCIP_CMD',\n",
       " 'VERSION',\n",
       " 'XPRESS',\n",
       " 'YAPOSIB',\n",
       " '__builtins__',\n",
       " '__cached__',\n",
       " '__doc__',\n",
       " '__file__',\n",
       " '__loader__',\n",
       " '__name__',\n",
       " '__package__',\n",
       " '__path__',\n",
       " '__spec__',\n",
       " '__version__',\n",
       " 'allcombinations',\n",
       " 'allpermutations',\n",
       " 'apis',\n",
       " 'arch',\n",
       " 'cbc_path',\n",
       " 'choco_api',\n",
       " 'clock',\n",
       " 'coinMP_path',\n",
       " 'coin_api',\n",
       " 'collections',\n",
       " 'combination',\n",
       " 'configSolvers',\n",
       " 'config_filename',\n",
       " 'configparser',\n",
       " 'const',\n",
       " 'constants',\n",
       " 'core',\n",
       " 'cplex_api',\n",
       " 'cplex_dll_path',\n",
       " 'ctypes',\n",
       " 'ctypesArrayFill',\n",
       " 'devnull',\n",
       " 'getSolver',\n",
       " 'getSolverFromDict',\n",
       " 'getSolverFromJson',\n",
       " 'get_solver',\n",
       " 'get_solver_from_dict',\n",
       " 'get_solver_from_json',\n",
       " 'glpk',\n",
       " 'glpk_api',\n",
       " 'glpk_path',\n",
       " 'gurobi_api',\n",
       " 'gurobi_path',\n",
       " 'gurobipy',\n",
       " 'ilm_cplex_license',\n",
       " 'ilm_cplex_license_signature',\n",
       " 'initialize',\n",
       " 'io',\n",
       " 'isNumber',\n",
       " 'is_64bits',\n",
       " 'isiterable',\n",
       " 'itertools',\n",
       " 'json',\n",
       " 'listSolvers',\n",
       " 'list_solvers',\n",
       " 'log',\n",
       " 'logging',\n",
       " 'lpDot',\n",
       " 'lpSum',\n",
       " 'makeDict',\n",
       " 'maketrans',\n",
       " 'mipcl_api',\n",
       " 'mktemp',\n",
       " 'mosek_api',\n",
       " 'mps_lp',\n",
       " 'mpslp',\n",
       " 'operating_system',\n",
       " 'os',\n",
       " 'permutation',\n",
       " 'pulp',\n",
       " 'pulpTestAll',\n",
       " 'pulp_cbc_path',\n",
       " 'pulp_choco_path',\n",
       " 're',\n",
       " 'read_table',\n",
       " 'resource_clock',\n",
       " 'scip_api',\n",
       " 'scip_path',\n",
       " 'setConfigInformation',\n",
       " 'sparse',\n",
       " 'splitDict',\n",
       " 'subprocess',\n",
       " 'sys',\n",
       " 'tests',\n",
       " 'time',\n",
       " 'to_string',\n",
       " 'utilities',\n",
       " 'uuid4',\n",
       " 'value',\n",
       " 'valueOrDefault',\n",
       " 'warnings',\n",
       " 'xpress_api',\n",
       " 'yaposib']"
      ]
     },
     "execution_count": 175,
     "metadata": {},
     "output_type": "execute_result"
    }
   ],
   "source": [
    "dir(pulp)"
   ]
  },
  {
   "cell_type": "code",
   "execution_count": 176,
   "metadata": {
    "tags": []
   },
   "outputs": [],
   "source": [
    "hours = range(0,24)"
   ]
  },
  {
   "cell_type": "code",
   "execution_count": 177,
   "metadata": {},
   "outputs": [],
   "source": [
    "demand_iced = pd.DataFrame({0: 7, 1: 11, 2: 8, 3: 8, 4: 5, 5: 3,\n",
    "                            6: 8, 7: 20, 8: 52, 9: 56, 10: 85, 11: 76,\n",
    "                            12: 102, 13: 67, 14: 82, 15: 68, 16: 65, 17: 56,\n",
    "                            18: 50, 19: 43, 20: 47, 21: 23, 22: 29, 23: 18},\n",
    "                           index=[0])"
   ]
  },
  {
   "cell_type": "code",
   "execution_count": 178,
   "metadata": {},
   "outputs": [],
   "source": [
    "demand_slushy = pd.DataFrame({0: 0, 1: 0, 2: 0, 3: 0, 4: 0, 5: 0,\n",
    "                              6: 0, 7: 0, 8: 0, 9: 38, 10: 84, 11: 93,\n",
    "                              12: 82, 13: 93, 14: 75, 15: 70, 16: 62, 17: 22,\n",
    "                              18: 27, 19: 17, 20: 22, 21: 0, 22: 0, 23: 0},\n",
    "                             index=[0])"
   ]
  },
  {
   "cell_type": "code",
   "execution_count": 179,
   "metadata": {},
   "outputs": [],
   "source": [
    "processing_time_iced = 2/60\n",
    "processing_time_slushy = 5/60"
   ]
  },
  {
   "cell_type": "code",
   "execution_count": 180,
   "metadata": {},
   "outputs": [
    {
     "data": {
      "text/plain": [
       "['Dallas', 'Los Angeles', 'Seattle', 'Denver']"
      ]
     },
     "execution_count": 180,
     "metadata": {},
     "output_type": "execute_result"
    }
   ],
   "source": [
    "plants = [\"Dallas\", \"Los Angeles\", \"Seattle\", \"Denver\"]\n",
    "plants"
   ]
  },
  {
   "cell_type": "code",
   "execution_count": 181,
   "metadata": {},
   "outputs": [],
   "source": [
    "supply = {\"Dallas\":900, \"Los Angeles\":2400, \"Seattle\":13000, \"Denver\":1800}"
   ]
  },
  {
   "cell_type": "code",
   "execution_count": 182,
   "metadata": {},
   "outputs": [],
   "source": [
    "fixedCost = {\"Dallas\":75000, \"Los Angeles\":72000, \"Seattle\":100000, \"Denver\":74000}"
   ]
  },
  {
   "cell_type": "code",
   "execution_count": 183,
   "metadata": {},
   "outputs": [],
   "source": [
    "stores = [\"Austin\", \"Sacramento\", \"Philadelphia\", \"Boulder\"]"
   ]
  },
  {
   "cell_type": "code",
   "execution_count": 184,
   "metadata": {},
   "outputs": [],
   "source": [
    "demand = {\"Austin\":1700, \"Sacramento\":1000, \"Philadelphia\":1500, \"Boulder\":1200}"
   ]
  },
  {
   "cell_type": "code",
   "execution_count": 185,
   "metadata": {},
   "outputs": [
    {
     "data": {
      "text/plain": [
       "[[2, 7, 4, 6], [6, 3, 4, 5], [8, 4, 6, 5], [7, 6, 5, 1]]"
      ]
     },
     "execution_count": 185,
     "metadata": {},
     "output_type": "execute_result"
    }
   ],
   "source": [
    "cost_matrix = [\n",
    "    [2,7,4,6],\n",
    "    [6,3,4,5],\n",
    "    [8,4,6,5],\n",
    "    [7,6,5,1]\n",
    "]\n",
    "\n",
    "cost_matrix  "
   ]
  },
  {
   "cell_type": "code",
   "execution_count": 186,
   "metadata": {},
   "outputs": [],
   "source": [
    "# pulp uses dictionaries, so create dict of dict"
   ]
  },
  {
   "cell_type": "code",
   "execution_count": 187,
   "metadata": {},
   "outputs": [],
   "source": [
    "costs={}\n",
    "for i in range(len(plants)):\n",
    "    temp_dict={}\n",
    "    for j in range(len(stores)):\n",
    "        temp_dict[stores[j]] = cost_matrix[i][j]\n",
    "    costs[plants[i]] = temp_dict"
   ]
  },
  {
   "cell_type": "code",
   "execution_count": 188,
   "metadata": {},
   "outputs": [
    {
     "data": {
      "text/plain": [
       "{'Dallas': {'Austin': 2, 'Sacramento': 7, 'Philadelphia': 4, 'Boulder': 6},\n",
       " 'Los Angeles': {'Austin': 6,\n",
       "  'Sacramento': 3,\n",
       "  'Philadelphia': 4,\n",
       "  'Boulder': 5},\n",
       " 'Seattle': {'Austin': 8, 'Sacramento': 4, 'Philadelphia': 6, 'Boulder': 5},\n",
       " 'Denver': {'Austin': 7, 'Sacramento': 6, 'Philadelphia': 5, 'Boulder': 1}}"
      ]
     },
     "execution_count": 188,
     "metadata": {},
     "output_type": "execute_result"
    }
   ],
   "source": [
    "costs"
   ]
  },
  {
   "cell_type": "code",
   "execution_count": 189,
   "metadata": {},
   "outputs": [],
   "source": [
    "routes=[]\n",
    "for p in plants:\n",
    "    for s in stores:\n",
    "        routes.append((p,s))"
   ]
  },
  {
   "cell_type": "code",
   "execution_count": 190,
   "metadata": {},
   "outputs": [
    {
     "data": {
      "text/plain": [
       "[('Dallas', 'Austin'),\n",
       " ('Dallas', 'Sacramento'),\n",
       " ('Dallas', 'Philadelphia'),\n",
       " ('Dallas', 'Boulder'),\n",
       " ('Los Angeles', 'Austin'),\n",
       " ('Los Angeles', 'Sacramento'),\n",
       " ('Los Angeles', 'Philadelphia'),\n",
       " ('Los Angeles', 'Boulder'),\n",
       " ('Seattle', 'Austin'),\n",
       " ('Seattle', 'Sacramento'),\n",
       " ('Seattle', 'Philadelphia'),\n",
       " ('Seattle', 'Boulder'),\n",
       " ('Denver', 'Austin'),\n",
       " ('Denver', 'Sacramento'),\n",
       " ('Denver', 'Philadelphia'),\n",
       " ('Denver', 'Boulder')]"
      ]
     },
     "execution_count": 190,
     "metadata": {},
     "output_type": "execute_result"
    }
   ],
   "source": [
    "routes"
   ]
  },
  {
   "cell_type": "code",
   "execution_count": 191,
   "metadata": {},
   "outputs": [],
   "source": [
    "### Use pulp\n",
    "\n",
    "route = pulp.LpVariable.dicts(\"Route\",(plants,stores), lowBound=0, cat=\"Integer\")"
   ]
  },
  {
   "cell_type": "code",
   "execution_count": 192,
   "metadata": {},
   "outputs": [
    {
     "data": {
      "text/plain": [
       "{'Dallas': {'Austin': Route_Dallas_Austin,\n",
       "  'Sacramento': Route_Dallas_Sacramento,\n",
       "  'Philadelphia': Route_Dallas_Philadelphia,\n",
       "  'Boulder': Route_Dallas_Boulder},\n",
       " 'Los Angeles': {'Austin': Route_Los_Angeles_Austin,\n",
       "  'Sacramento': Route_Los_Angeles_Sacramento,\n",
       "  'Philadelphia': Route_Los_Angeles_Philadelphia,\n",
       "  'Boulder': Route_Los_Angeles_Boulder},\n",
       " 'Seattle': {'Austin': Route_Seattle_Austin,\n",
       "  'Sacramento': Route_Seattle_Sacramento,\n",
       "  'Philadelphia': Route_Seattle_Philadelphia,\n",
       "  'Boulder': Route_Seattle_Boulder},\n",
       " 'Denver': {'Austin': Route_Denver_Austin,\n",
       "  'Sacramento': Route_Denver_Sacramento,\n",
       "  'Philadelphia': Route_Denver_Philadelphia,\n",
       "  'Boulder': Route_Denver_Boulder}}"
      ]
     },
     "execution_count": 192,
     "metadata": {},
     "output_type": "execute_result"
    }
   ],
   "source": [
    "route\n",
    "\n",
    "### pulp.LpVariable.dicts(name, indexs, lowBound, upperBound, Category)"
   ]
  },
  {
   "cell_type": "code",
   "execution_count": 193,
   "metadata": {},
   "outputs": [],
   "source": [
    "build = pulp.LpVariable.dicts(\"Build_Plant\", plants, lowBound=0, upBound=1, cat=\"Integer\")"
   ]
  },
  {
   "cell_type": "code",
   "execution_count": 194,
   "metadata": {},
   "outputs": [
    {
     "data": {
      "text/plain": [
       "{'Dallas': Build_Plant_Dallas,\n",
       " 'Los Angeles': Build_Plant_Los_Angeles,\n",
       " 'Seattle': Build_Plant_Seattle,\n",
       " 'Denver': Build_Plant_Denver}"
      ]
     },
     "execution_count": 194,
     "metadata": {},
     "output_type": "execute_result"
    }
   ],
   "source": [
    "build"
   ]
  },
  {
   "cell_type": "code",
   "execution_count": 195,
   "metadata": {},
   "outputs": [],
   "source": [
    "#objective"
   ]
  },
  {
   "cell_type": "code",
   "execution_count": 196,
   "metadata": {},
   "outputs": [
    {
     "data": {
      "text/plain": [
       "2*Route_Dallas_Austin + 6*Route_Dallas_Boulder + 4*Route_Dallas_Philadelphia + 7*Route_Dallas_Sacramento + 7*Route_Denver_Austin + 1*Route_Denver_Boulder + 5*Route_Denver_Philadelphia + 6*Route_Denver_Sacramento + 6*Route_Los_Angeles_Austin + 5*Route_Los_Angeles_Boulder + 4*Route_Los_Angeles_Philadelphia + 3*Route_Los_Angeles_Sacramento + 8*Route_Seattle_Austin + 5*Route_Seattle_Boulder + 6*Route_Seattle_Philadelphia + 4*Route_Seattle_Sacramento + 0"
      ]
     },
     "execution_count": 196,
     "metadata": {},
     "output_type": "execute_result"
    }
   ],
   "source": [
    "obj = \"\"\n",
    "\n",
    "for (p,s) in routes:\n",
    "    obj += route[p][s]*costs[p][s]\n",
    "    \n",
    "obj"
   ]
  },
  {
   "cell_type": "code",
   "execution_count": 197,
   "metadata": {},
   "outputs": [],
   "source": [
    "for p in plants:\n",
    "    obj += fixedCost[p] * build[p]"
   ]
  },
  {
   "cell_type": "code",
   "execution_count": 198,
   "metadata": {},
   "outputs": [
    {
     "data": {
      "text/plain": [
       "75000*Build_Plant_Dallas + 74000*Build_Plant_Denver + 72000*Build_Plant_Los_Angeles + 100000*Build_Plant_Seattle + 2*Route_Dallas_Austin + 6*Route_Dallas_Boulder + 4*Route_Dallas_Philadelphia + 7*Route_Dallas_Sacramento + 7*Route_Denver_Austin + 1*Route_Denver_Boulder + 5*Route_Denver_Philadelphia + 6*Route_Denver_Sacramento + 6*Route_Los_Angeles_Austin + 5*Route_Los_Angeles_Boulder + 4*Route_Los_Angeles_Philadelphia + 3*Route_Los_Angeles_Sacramento + 8*Route_Seattle_Austin + 5*Route_Seattle_Boulder + 6*Route_Seattle_Philadelphia + 4*Route_Seattle_Sacramento + 0"
      ]
     },
     "execution_count": 198,
     "metadata": {},
     "output_type": "execute_result"
    }
   ],
   "source": [
    "obj"
   ]
  },
  {
   "cell_type": "code",
   "execution_count": 199,
   "metadata": {},
   "outputs": [
    {
     "data": {
      "text/plain": [
       "Supply_Demand:\n",
       "MINIMIZE\n",
       "75000*Build_Plant_Dallas + 74000*Build_Plant_Denver + 72000*Build_Plant_Los_Angeles + 100000*Build_Plant_Seattle + 2*Route_Dallas_Austin + 6*Route_Dallas_Boulder + 4*Route_Dallas_Philadelphia + 7*Route_Dallas_Sacramento + 7*Route_Denver_Austin + 1*Route_Denver_Boulder + 5*Route_Denver_Philadelphia + 6*Route_Denver_Sacramento + 6*Route_Los_Angeles_Austin + 5*Route_Los_Angeles_Boulder + 4*Route_Los_Angeles_Philadelphia + 3*Route_Los_Angeles_Sacramento + 8*Route_Seattle_Austin + 5*Route_Seattle_Boulder + 6*Route_Seattle_Philadelphia + 4*Route_Seattle_Sacramento + 0\n",
       "VARIABLES\n",
       "0 <= Build_Plant_Dallas <= 1 Integer\n",
       "0 <= Build_Plant_Denver <= 1 Integer\n",
       "0 <= Build_Plant_Los_Angeles <= 1 Integer\n",
       "0 <= Build_Plant_Seattle <= 1 Integer\n",
       "0 <= Route_Dallas_Austin Integer\n",
       "0 <= Route_Dallas_Boulder Integer\n",
       "0 <= Route_Dallas_Philadelphia Integer\n",
       "0 <= Route_Dallas_Sacramento Integer\n",
       "0 <= Route_Denver_Austin Integer\n",
       "0 <= Route_Denver_Boulder Integer\n",
       "0 <= Route_Denver_Philadelphia Integer\n",
       "0 <= Route_Denver_Sacramento Integer\n",
       "0 <= Route_Los_Angeles_Austin Integer\n",
       "0 <= Route_Los_Angeles_Boulder Integer\n",
       "0 <= Route_Los_Angeles_Philadelphia Integer\n",
       "0 <= Route_Los_Angeles_Sacramento Integer\n",
       "0 <= Route_Seattle_Austin Integer\n",
       "0 <= Route_Seattle_Boulder Integer\n",
       "0 <= Route_Seattle_Philadelphia Integer\n",
       "0 <= Route_Seattle_Sacramento Integer"
      ]
     },
     "execution_count": 199,
     "metadata": {},
     "output_type": "execute_result"
    }
   ],
   "source": [
    "prob = pulp.LpProblem(\"Supply_Demand\", pulp.LpMinimize)\n",
    "prob += obj, \"Total Cost\"\n",
    "prob"
   ]
  },
  {
   "cell_type": "code",
   "execution_count": 200,
   "metadata": {},
   "outputs": [],
   "source": [
    "#constriants"
   ]
  },
  {
   "cell_type": "code",
   "execution_count": 201,
   "metadata": {
    "tags": []
   },
   "outputs": [],
   "source": [
    "#supply\n",
    "\n",
    "for p in plants:\n",
    "    product_out = \"\"\n",
    "    for s in stores:\n",
    "        product_out +=route[p][s]\n",
    "    prob += product_out <= supply[p]*build[p], \"Total_Supply_of_\" +str(p)"
   ]
  },
  {
   "cell_type": "code",
   "execution_count": 202,
   "metadata": {},
   "outputs": [
    {
     "data": {
      "text/plain": [
       "Supply_Demand:\n",
       "MINIMIZE\n",
       "75000*Build_Plant_Dallas + 74000*Build_Plant_Denver + 72000*Build_Plant_Los_Angeles + 100000*Build_Plant_Seattle + 2*Route_Dallas_Austin + 6*Route_Dallas_Boulder + 4*Route_Dallas_Philadelphia + 7*Route_Dallas_Sacramento + 7*Route_Denver_Austin + 1*Route_Denver_Boulder + 5*Route_Denver_Philadelphia + 6*Route_Denver_Sacramento + 6*Route_Los_Angeles_Austin + 5*Route_Los_Angeles_Boulder + 4*Route_Los_Angeles_Philadelphia + 3*Route_Los_Angeles_Sacramento + 8*Route_Seattle_Austin + 5*Route_Seattle_Boulder + 6*Route_Seattle_Philadelphia + 4*Route_Seattle_Sacramento + 0\n",
       "SUBJECT TO\n",
       "Total_Supply_of_Dallas: - 900 Build_Plant_Dallas + Route_Dallas_Austin\n",
       " + Route_Dallas_Boulder + Route_Dallas_Philadelphia + Route_Dallas_Sacramento\n",
       " <= 0\n",
       "\n",
       "Total_Supply_of_Los_Angeles: - 2400 Build_Plant_Los_Angeles\n",
       " + Route_Los_Angeles_Austin + Route_Los_Angeles_Boulder\n",
       " + Route_Los_Angeles_Philadelphia + Route_Los_Angeles_Sacramento <= 0\n",
       "\n",
       "Total_Supply_of_Seattle: - 13000 Build_Plant_Seattle + Route_Seattle_Austin\n",
       " + Route_Seattle_Boulder + Route_Seattle_Philadelphia\n",
       " + Route_Seattle_Sacramento <= 0\n",
       "\n",
       "Total_Supply_of_Denver: - 1800 Build_Plant_Denver + Route_Denver_Austin\n",
       " + Route_Denver_Boulder + Route_Denver_Philadelphia + Route_Denver_Sacramento\n",
       " <= 0\n",
       "\n",
       "VARIABLES\n",
       "0 <= Build_Plant_Dallas <= 1 Integer\n",
       "0 <= Build_Plant_Denver <= 1 Integer\n",
       "0 <= Build_Plant_Los_Angeles <= 1 Integer\n",
       "0 <= Build_Plant_Seattle <= 1 Integer\n",
       "0 <= Route_Dallas_Austin Integer\n",
       "0 <= Route_Dallas_Boulder Integer\n",
       "0 <= Route_Dallas_Philadelphia Integer\n",
       "0 <= Route_Dallas_Sacramento Integer\n",
       "0 <= Route_Denver_Austin Integer\n",
       "0 <= Route_Denver_Boulder Integer\n",
       "0 <= Route_Denver_Philadelphia Integer\n",
       "0 <= Route_Denver_Sacramento Integer\n",
       "0 <= Route_Los_Angeles_Austin Integer\n",
       "0 <= Route_Los_Angeles_Boulder Integer\n",
       "0 <= Route_Los_Angeles_Philadelphia Integer\n",
       "0 <= Route_Los_Angeles_Sacramento Integer\n",
       "0 <= Route_Seattle_Austin Integer\n",
       "0 <= Route_Seattle_Boulder Integer\n",
       "0 <= Route_Seattle_Philadelphia Integer\n",
       "0 <= Route_Seattle_Sacramento Integer"
      ]
     },
     "execution_count": 202,
     "metadata": {},
     "output_type": "execute_result"
    }
   ],
   "source": [
    "prob"
   ]
  },
  {
   "cell_type": "code",
   "execution_count": 203,
   "metadata": {},
   "outputs": [],
   "source": [
    "#demand\n",
    "\n",
    "for s in stores:\n",
    "    product_in = \"\"\n",
    "    for p in plants:\n",
    "        product_in +=route[p][s]\n",
    "    prob += product_in >= demand[s],  \"Total_Demand_of_\" +str(s)"
   ]
  },
  {
   "cell_type": "code",
   "execution_count": 204,
   "metadata": {},
   "outputs": [
    {
     "data": {
      "text/plain": [
       "Supply_Demand:\n",
       "MINIMIZE\n",
       "75000*Build_Plant_Dallas + 74000*Build_Plant_Denver + 72000*Build_Plant_Los_Angeles + 100000*Build_Plant_Seattle + 2*Route_Dallas_Austin + 6*Route_Dallas_Boulder + 4*Route_Dallas_Philadelphia + 7*Route_Dallas_Sacramento + 7*Route_Denver_Austin + 1*Route_Denver_Boulder + 5*Route_Denver_Philadelphia + 6*Route_Denver_Sacramento + 6*Route_Los_Angeles_Austin + 5*Route_Los_Angeles_Boulder + 4*Route_Los_Angeles_Philadelphia + 3*Route_Los_Angeles_Sacramento + 8*Route_Seattle_Austin + 5*Route_Seattle_Boulder + 6*Route_Seattle_Philadelphia + 4*Route_Seattle_Sacramento + 0\n",
       "SUBJECT TO\n",
       "Total_Supply_of_Dallas: - 900 Build_Plant_Dallas + Route_Dallas_Austin\n",
       " + Route_Dallas_Boulder + Route_Dallas_Philadelphia + Route_Dallas_Sacramento\n",
       " <= 0\n",
       "\n",
       "Total_Supply_of_Los_Angeles: - 2400 Build_Plant_Los_Angeles\n",
       " + Route_Los_Angeles_Austin + Route_Los_Angeles_Boulder\n",
       " + Route_Los_Angeles_Philadelphia + Route_Los_Angeles_Sacramento <= 0\n",
       "\n",
       "Total_Supply_of_Seattle: - 13000 Build_Plant_Seattle + Route_Seattle_Austin\n",
       " + Route_Seattle_Boulder + Route_Seattle_Philadelphia\n",
       " + Route_Seattle_Sacramento <= 0\n",
       "\n",
       "Total_Supply_of_Denver: - 1800 Build_Plant_Denver + Route_Denver_Austin\n",
       " + Route_Denver_Boulder + Route_Denver_Philadelphia + Route_Denver_Sacramento\n",
       " <= 0\n",
       "\n",
       "Total_Demand_of_Austin: Route_Dallas_Austin + Route_Denver_Austin\n",
       " + Route_Los_Angeles_Austin + Route_Seattle_Austin >= 1700\n",
       "\n",
       "Total_Demand_of_Sacramento: Route_Dallas_Sacramento + Route_Denver_Sacramento\n",
       " + Route_Los_Angeles_Sacramento + Route_Seattle_Sacramento >= 1000\n",
       "\n",
       "Total_Demand_of_Philadelphia: Route_Dallas_Philadelphia\n",
       " + Route_Denver_Philadelphia + Route_Los_Angeles_Philadelphia\n",
       " + Route_Seattle_Philadelphia >= 1500\n",
       "\n",
       "Total_Demand_of_Boulder: Route_Dallas_Boulder + Route_Denver_Boulder\n",
       " + Route_Los_Angeles_Boulder + Route_Seattle_Boulder >= 1200\n",
       "\n",
       "VARIABLES\n",
       "0 <= Build_Plant_Dallas <= 1 Integer\n",
       "0 <= Build_Plant_Denver <= 1 Integer\n",
       "0 <= Build_Plant_Los_Angeles <= 1 Integer\n",
       "0 <= Build_Plant_Seattle <= 1 Integer\n",
       "0 <= Route_Dallas_Austin Integer\n",
       "0 <= Route_Dallas_Boulder Integer\n",
       "0 <= Route_Dallas_Philadelphia Integer\n",
       "0 <= Route_Dallas_Sacramento Integer\n",
       "0 <= Route_Denver_Austin Integer\n",
       "0 <= Route_Denver_Boulder Integer\n",
       "0 <= Route_Denver_Philadelphia Integer\n",
       "0 <= Route_Denver_Sacramento Integer\n",
       "0 <= Route_Los_Angeles_Austin Integer\n",
       "0 <= Route_Los_Angeles_Boulder Integer\n",
       "0 <= Route_Los_Angeles_Philadelphia Integer\n",
       "0 <= Route_Los_Angeles_Sacramento Integer\n",
       "0 <= Route_Seattle_Austin Integer\n",
       "0 <= Route_Seattle_Boulder Integer\n",
       "0 <= Route_Seattle_Philadelphia Integer\n",
       "0 <= Route_Seattle_Sacramento Integer"
      ]
     },
     "execution_count": 204,
     "metadata": {},
     "output_type": "execute_result"
    }
   ],
   "source": [
    "prob"
   ]
  },
  {
   "cell_type": "code",
   "execution_count": 205,
   "metadata": {},
   "outputs": [],
   "source": [
    "### solve"
   ]
  },
  {
   "cell_type": "code",
   "execution_count": 206,
   "metadata": {},
   "outputs": [
    {
     "data": {
      "text/plain": [
       "1"
      ]
     },
     "execution_count": 206,
     "metadata": {},
     "output_type": "execute_result"
    }
   ],
   "source": [
    "prob.solve()"
   ]
  },
  {
   "cell_type": "code",
   "execution_count": 207,
   "metadata": {},
   "outputs": [
    {
     "data": {
      "text/plain": [
       "'Optimal'"
      ]
     },
     "execution_count": 207,
     "metadata": {},
     "output_type": "execute_result"
    }
   ],
   "source": [
    "pulp.LpStatus[prob.status]"
   ]
  },
  {
   "cell_type": "code",
   "execution_count": 208,
   "metadata": {},
   "outputs": [
    {
     "name": "stdout",
     "output_type": "stream",
     "text": [
      "Build_Plant_Dallas ==> 0.0\n",
      "Build_Plant_Denver ==> 0.0\n",
      "Build_Plant_Los_Angeles ==> 0.0\n",
      "Build_Plant_Seattle ==> 1.0\n",
      "Route_Dallas_Austin ==> 0.0\n",
      "Route_Dallas_Boulder ==> 0.0\n",
      "Route_Dallas_Philadelphia ==> 0.0\n",
      "Route_Dallas_Sacramento ==> 0.0\n",
      "Route_Denver_Austin ==> 0.0\n",
      "Route_Denver_Boulder ==> 0.0\n",
      "Route_Denver_Philadelphia ==> 0.0\n",
      "Route_Denver_Sacramento ==> 0.0\n",
      "Route_Los_Angeles_Austin ==> 0.0\n",
      "Route_Los_Angeles_Boulder ==> 0.0\n",
      "Route_Los_Angeles_Philadelphia ==> 0.0\n",
      "Route_Los_Angeles_Sacramento ==> 0.0\n",
      "Route_Seattle_Austin ==> 1700.0\n",
      "Route_Seattle_Boulder ==> 1200.0\n",
      "Route_Seattle_Philadelphia ==> 1500.0\n",
      "Route_Seattle_Sacramento ==> 1000.0\n"
     ]
    }
   ],
   "source": [
    "# Get variable values\n",
    "for var in prob.variables():\n",
    "    print(var.name,\"==>\",var.varValue)"
   ]
  },
  {
   "cell_type": "code",
   "execution_count": 209,
   "metadata": {},
   "outputs": [
    {
     "data": {
      "text/plain": [
       "132600.0"
      ]
     },
     "execution_count": 209,
     "metadata": {},
     "output_type": "execute_result"
    }
   ],
   "source": [
    "pulp.value(prob.objective)"
   ]
  }
 ],
 "metadata": {
  "kernelspec": {
   "display_name": "Python 3",
   "language": "python",
   "name": "python3"
  },
  "language_info": {
   "codemirror_mode": {
    "name": "ipython",
    "version": 3
   },
   "file_extension": ".py",
   "mimetype": "text/x-python",
   "name": "python",
   "nbconvert_exporter": "python",
   "pygments_lexer": "ipython3",
   "version": "3.8.5"
  }
 },
 "nbformat": 4,
 "nbformat_minor": 5
}
